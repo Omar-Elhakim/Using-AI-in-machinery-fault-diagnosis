{
 "cells": [
  {
   "cell_type": "code",
   "source": [
    "import pandas as pd\n",
    "import numpy as np\n",
    "import matplotlib.pyplot as plt\n",
    "from sklearn.metrics import precision_score, recall_score, f1_score, confusion_matrix\n",
    "import torch\n",
    "import torch.nn as nn\n",
    "import torch.optim as optim\n",
    "from torch.utils.data import DataLoader, TensorDataset\n",
    "import seaborn as sns\n",
    "import imblearn\n",
    "from imblearn.over_sampling import RandomOverSampler"
   ],
   "outputs": [],
   "execution_count": 289,
   "metadata": {
    "gather": {
     "logged": 1704131750667
    }
   }
  },
  {
   "cell_type": "code",
   "source": [
    "df = pd.read_pickle(\"./data/vel_LR_ssh.pkl\")"
   ],
   "outputs": [],
   "execution_count": 290,
   "metadata": {
    "gather": {
     "logged": 1704131752094
    }
   }
  },
  {
   "cell_type": "code",
   "source": [
    "df[\"faults\"].explode().value_counts()"
   ],
   "outputs": [
    {
     "output_type": "execute_result",
     "execution_count": 291,
     "data": {
      "text/plain": "Machine_Misalignment.                                            199\nMachine_Bearings_Loosness_and/or_Excessive_Clearance_Problem.    104\nMachine_Bearings_Fault.                                           70\nMotor_Bearings_Fault.                                             68\nStructural_Looseness.                                             63\nPump_Flow_Problem.                                                58\nMotor_Bearings_Loosness_and/or_Excessive_Clearance_Problem.       51\nMachine_Coupling_Problem.                                         50\nMachine_Bearings_Lubrication_Problem.                             47\nFan_Flow_Problem.                                                 32\nMachine_Unbalance.                                                24\nMachine_Bearings_Wear_Problem.                                    19\nMotor_Bearings_Lubrication_Problem.                               18\nMachine_Severe_Misalignment.                                      17\nMotor_Electrical_Problem.                                         16\nMachine_Belt_Problem.                                             16\nMotor_Bearings_Wear_Problem.                                       7\nName: faults, dtype: int64"
     },
     "metadata": {}
    }
   ],
   "execution_count": 291,
   "metadata": {
    "gather": {
     "logged": 1704131752321
    }
   }
  },
  {
   "cell_type": "code",
   "source": [
    "# Include the name of the fault when it's in the machine and when it's in the motor\n",
    "machine_fault_names = [\"Pump_Flow_Problem.\"]"
   ],
   "outputs": [],
   "execution_count": 292,
   "metadata": {
    "gather": {
     "logged": 1704131752514
    }
   }
  },
  {
   "cell_type": "code",
   "source": [
    "# Filter the dataframe and create a new one with the time series, and the label of the motor fault and machine fault.\n",
    "faults_df = pd.DataFrame()\n",
    "faults_df[\"time series\"] = df[\"ts\"].apply(lambda x: x[-6:])\n",
    "faults_df[\"machine bearing\"] = df[\"faults\"].apply(\n",
    "    lambda x: 1 if any(fault in x for fault in machine_fault_names) else 0\n",
    ")\n",
    "faults_df"
   ],
   "outputs": [
    {
     "output_type": "execute_result",
     "execution_count": 293,
     "data": {
      "text/plain": "                                           time series  machine bearing\n0    [[0.005285177, 0.004164859, 0.003253336, 0.002...                0\n1    [[0.000869729, 0.000518601, 0.00015061, -0.000...                1\n2    [[0.002559707, 0.001082357, 0.00170203, 0.0014...                0\n3    [[-0.000958535, -0.000679555, -0.001023321, -0...                0\n4    [[-0.001425727, -0.00059968, -0.000466655, -0....                0\n..                                                 ...              ...\n227  [[-0.003459089, -0.0025765, -0.002196188, -0.0...                0\n228  [[0.004822966, 0.005350358, 0.005101174, 0.003...                0\n229  [[0.001602026, 0.001922093, 0.001353979, 0.001...                1\n230  [[0.001696164, 0.000394698, -0.000349722, -0.0...                0\n231  [[0.000310163, -0.000224401, -0.00138434, -0.0...                0\n\n[232 rows x 2 columns]",
      "text/html": "<div>\n<style scoped>\n    .dataframe tbody tr th:only-of-type {\n        vertical-align: middle;\n    }\n\n    .dataframe tbody tr th {\n        vertical-align: top;\n    }\n\n    .dataframe thead th {\n        text-align: right;\n    }\n</style>\n<table border=\"1\" class=\"dataframe\">\n  <thead>\n    <tr style=\"text-align: right;\">\n      <th></th>\n      <th>time series</th>\n      <th>machine bearing</th>\n    </tr>\n  </thead>\n  <tbody>\n    <tr>\n      <th>0</th>\n      <td>[[0.005285177, 0.004164859, 0.003253336, 0.002...</td>\n      <td>0</td>\n    </tr>\n    <tr>\n      <th>1</th>\n      <td>[[0.000869729, 0.000518601, 0.00015061, -0.000...</td>\n      <td>1</td>\n    </tr>\n    <tr>\n      <th>2</th>\n      <td>[[0.002559707, 0.001082357, 0.00170203, 0.0014...</td>\n      <td>0</td>\n    </tr>\n    <tr>\n      <th>3</th>\n      <td>[[-0.000958535, -0.000679555, -0.001023321, -0...</td>\n      <td>0</td>\n    </tr>\n    <tr>\n      <th>4</th>\n      <td>[[-0.001425727, -0.00059968, -0.000466655, -0....</td>\n      <td>0</td>\n    </tr>\n    <tr>\n      <th>...</th>\n      <td>...</td>\n      <td>...</td>\n    </tr>\n    <tr>\n      <th>227</th>\n      <td>[[-0.003459089, -0.0025765, -0.002196188, -0.0...</td>\n      <td>0</td>\n    </tr>\n    <tr>\n      <th>228</th>\n      <td>[[0.004822966, 0.005350358, 0.005101174, 0.003...</td>\n      <td>0</td>\n    </tr>\n    <tr>\n      <th>229</th>\n      <td>[[0.001602026, 0.001922093, 0.001353979, 0.001...</td>\n      <td>1</td>\n    </tr>\n    <tr>\n      <th>230</th>\n      <td>[[0.001696164, 0.000394698, -0.000349722, -0.0...</td>\n      <td>0</td>\n    </tr>\n    <tr>\n      <th>231</th>\n      <td>[[0.000310163, -0.000224401, -0.00138434, -0.0...</td>\n      <td>0</td>\n    </tr>\n  </tbody>\n</table>\n<p>232 rows × 2 columns</p>\n</div>"
     },
     "metadata": {}
    }
   ],
   "execution_count": 293,
   "metadata": {
    "gather": {
     "logged": 1704131752759
    }
   }
  },
  {
   "cell_type": "code",
   "source": [
    "faults_df[\"machine bearing\"].value_counts()"
   ],
   "outputs": [
    {
     "output_type": "execute_result",
     "execution_count": 294,
     "data": {
      "text/plain": "0    174\n1     58\nName: machine bearing, dtype: int64"
     },
     "metadata": {}
    }
   ],
   "execution_count": 294,
   "metadata": {
    "jupyter": {
     "source_hidden": false,
     "outputs_hidden": false
    },
    "nteract": {
     "transient": {
      "deleting": false
     }
    },
    "gather": {
     "logged": 1704131752973
    }
   }
  },
  {
   "cell_type": "code",
   "source": [
    "# Convert the time series and labels into lists for further processing.\n",
    "ts_list = faults_df[\"time series\"].to_list()\n",
    "labels_list = faults_df[\"machine bearing\"].to_list()"
   ],
   "outputs": [],
   "execution_count": 295,
   "metadata": {
    "gather": {
     "logged": 1704131753171
    }
   }
  },
  {
   "cell_type": "code",
   "source": [
    "def getWindowedData(ts, label, window_length=256, overlap=0.1):\n",
    "    \"\"\"Will return an array of shape (Number of windows x Number of channels x Length)\n",
    "    The overlap value here is a percentage, i.e. for a value of 0.1, each two successive time series will 10% common values\n",
    "    For no overlap, set overlap = 0 when calling the function\"\"\"\n",
    "\n",
    "    ts_no_nans = ts[\n",
    "        :, ~np.any(np.isnan(ts), axis=0)\n",
    "    ]  # Index the time series to remove NaNs\n",
    "\n",
    "    step_size = int(window_length * (1 - overlap))\n",
    "\n",
    "    windowed_ts_list = list()\n",
    "    windowed_labels = []\n",
    "\n",
    "    for i in range(0, ts_no_nans.shape[1] - window_length + 1, step_size):\n",
    "        start_index = i\n",
    "        end_index = i + window_length\n",
    "        windowed_ts_list.append(ts_no_nans[:, start_index:end_index])\n",
    "        windowed_labels.append(label)\n",
    "\n",
    "    windowed_ts_array = np.array(windowed_ts_list)\n",
    "    windowed_labels = np.array(windowed_labels)\n",
    "\n",
    "    return windowed_ts_array, windowed_labels"
   ],
   "outputs": [],
   "execution_count": 296,
   "metadata": {
    "gather": {
     "logged": 1704131753419
    }
   }
  },
  {
   "cell_type": "code",
   "source": [
    "# Define windowing parameters\n",
    "window_length = 1024\n",
    "overlap = 0"
   ],
   "outputs": [],
   "execution_count": 297,
   "metadata": {
    "gather": {
     "logged": 1704131753596
    }
   }
  },
  {
   "cell_type": "code",
   "source": [
    "\"\"\"\n",
    "Split the data into train and test before training to make sure the windows of the same time series do not get into training and testing simultaneously\n",
    "\"\"\"\n",
    "\n",
    "from sklearn.model_selection import train_test_split\n",
    "\n",
    "sample_indices = list(range(len(ts_list)))\n",
    "train_sample_indices, test_sample_indices = train_test_split(\n",
    "    sample_indices, test_size=0.2, shuffle=True\n",
    ")\n",
    "\n",
    "X_train = []\n",
    "y_train = []\n",
    "X_test = []\n",
    "y_test = []\n",
    "\n",
    "for index in train_sample_indices:\n",
    "    ts = ts_list[index]\n",
    "    label = labels_list[index]\n",
    "    data_pairs = getWindowedData(\n",
    "        ts, label=label, window_length=window_length, overlap=overlap\n",
    "    )\n",
    "    X_train.append(data_pairs[0])\n",
    "    y_train.append(data_pairs[1])\n",
    "\n",
    "for index in test_sample_indices:\n",
    "    ts = ts_list[index]\n",
    "    label = labels_list[index]\n",
    "    data_pairs = getWindowedData(\n",
    "        ts, label=label, window_length=window_length, overlap=overlap\n",
    "    )\n",
    "    X_test.append(data_pairs[0])\n",
    "    y_test.append(data_pairs[1])\n",
    "\n",
    "X_train_arr = np.concatenate(X_train, axis=0)\n",
    "y_train_arr = np.concatenate(y_train, axis=0)\n",
    "X_test_arr = np.concatenate(X_test, axis=0)\n",
    "y_test_arr = np.concatenate(y_test, axis=0)"
   ],
   "outputs": [],
   "execution_count": 298,
   "metadata": {
    "gather": {
     "logged": 1704131753817
    }
   }
  },
  {
   "cell_type": "code",
   "source": [
    "class FaultClassifier(nn.Module):\n",
    "    def __init__(self, input_size, hidden_size, output_size):\n",
    "        super(FaultClassifier, self).__init__()\n",
    "        self.flatten = nn.Flatten()\n",
    "        self.fc1 = nn.Linear(input_size, hidden_size)\n",
    "        self.relu = nn.ReLU()\n",
    "        self.fc2 = nn.Linear(hidden_size, output_size)\n",
    "        self.sigmoid = nn.Sigmoid()\n",
    "\n",
    "    def forward(self, x):\n",
    "        x = self.flatten(x)\n",
    "        x = self.fc1(x)\n",
    "        x = self.relu(x)\n",
    "        x = self.fc2(x)\n",
    "        x = self.sigmoid(x)\n",
    "        return x"
   ],
   "outputs": [],
   "execution_count": 299,
   "metadata": {
    "gather": {
     "logged": 1704131754032
    }
   }
  },
  {
   "cell_type": "markdown",
   "source": [
    "Now we start working with the FFT data instead of time series to see the huge difference in both. Here we use undersampling too."
   ],
   "metadata": {}
  },
  {
   "cell_type": "code",
   "source": [
    "def GetFFT(ts):\n",
    "    return np.abs(np.fft.rfft(ts * np.hanning(len(ts))))[:-1] * 2"
   ],
   "outputs": [],
   "execution_count": 300,
   "metadata": {
    "gather": {
     "logged": 1704131754285
    }
   }
  },
  {
   "cell_type": "code",
   "source": [
    "# minority_class = 1  # Change this if your minority class label is different\n",
    "\n",
    "# # Find indices of minority and majority class samples\n",
    "# minority_indices = np.where(y_train_arr == minority_class)[0]\n",
    "# majority_indices = np.where(y_train_arr != minority_class)[0]\n",
    "\n",
    "# # Count the number of samples in each class\n",
    "# minority_count = len(minority_indices)\n",
    "# majority_count = len(majority_indices)\n",
    "\n",
    "# # Calculate the number of samples to remove from the majority class\n",
    "# samples_to_remove = majority_count - minority_count\n",
    "\n",
    "# # Randomly select samples to remove from the majority class\n",
    "# samples_to_remove_indices = np.random.choice(majority_indices, size=samples_to_remove, replace=False)\n",
    "\n",
    "# # Remove selected samples from X_train_arr and y_train_arr\n",
    "# X_train_arr = np.delete(X_train_arr, samples_to_remove_indices, axis=0)\n",
    "# y_train_arr = np.delete(y_train_arr, samples_to_remove_indices)"
   ],
   "outputs": [],
   "execution_count": 301,
   "metadata": {
    "gather": {
     "logged": 1704131754478
    }
   }
  },
  {
   "cell_type": "markdown",
   "source": [
    "* Uncomment the next cell to do over sampling , but don't forget to comment out the above undersampling  cell"
   ],
   "metadata": {}
  },
  {
   "cell_type": "code",
   "source": [
    "oversampler = imblearn.over_sampling.RandomOverSampler(sampling_strategy=\"minority\")\n",
    "x_shape = X_train_arr.shape\n",
    "y_shape = y_train_arr.shape\n",
    "\n",
    "X_train_arr, y_train_arr = oversampler.fit_resample(\n",
    "    X_train_arr.reshape(X_train_arr.shape[0], -1),\n",
    "    y_train_arr.reshape(y_train_arr.shape[0], -1),\n",
    ")\n",
    "\n",
    "X_train_arr = X_train_arr.reshape(-1, x_shape[1], x_shape[2])"
   ],
   "outputs": [],
   "execution_count": 302,
   "metadata": {
    "gather": {
     "logged": 1704131754668
    }
   }
  },
  {
   "cell_type": "code",
   "source": [
    "X_train_fft_arr = list()\n",
    "X_test_fft_arr = list()\n",
    "\n",
    "for bearing_channels in X_train_arr:\n",
    "    temp_fft_arr = []\n",
    "    for channel in bearing_channels:\n",
    "        temp_fft_arr.append(GetFFT(channel))\n",
    "\n",
    "    X_train_fft_arr.append(temp_fft_arr)\n",
    "\n",
    "for bearing_channels in X_test_arr:\n",
    "    temp_fft_arr = []\n",
    "    for channel in bearing_channels:\n",
    "        temp_fft_arr.append(GetFFT(channel))\n",
    "\n",
    "    X_test_fft_arr.append(temp_fft_arr)\n",
    "\n",
    "\n",
    "X_train_fft_arr = np.array(X_train_fft_arr)\n",
    "X_test_fft_arr = np.array(X_test_fft_arr)"
   ],
   "outputs": [],
   "execution_count": 303,
   "metadata": {
    "gather": {
     "logged": 1704131754875
    }
   }
  },
  {
   "cell_type": "markdown",
   "source": [
    "# Choose from Normalization or Standardization"
   ],
   "metadata": {
    "nteract": {
     "transient": {
      "deleting": false
     }
    }
   }
  },
  {
   "cell_type": "markdown",
   "source": [
    "* Normalization"
   ],
   "metadata": {}
  },
  {
   "cell_type": "code",
   "source": [
    "from sklearn.preprocessing import MinMaxScaler\n",
    "\n",
    "scaler = MinMaxScaler()\n",
    "X_train_normalized = scaler.fit_transform(\n",
    "    X_train_fft_arr.reshape(X_train_fft_arr.shape[0], -1)\n",
    ").reshape(X_train_fft_arr.shape)\n",
    "X_test_normalized = scaler.transform(\n",
    "    X_test_fft_arr.reshape(X_test_fft_arr.shape[0], -1)\n",
    ").reshape(X_test_fft_arr.shape)"
   ],
   "outputs": [],
   "execution_count": 304,
   "metadata": {
    "jupyter": {
     "source_hidden": false,
     "outputs_hidden": false
    },
    "nteract": {
     "transient": {
      "deleting": false
     }
    },
    "gather": {
     "logged": 1704131755067
    }
   }
  },
  {
   "cell_type": "markdown",
   "source": [
    "* Standardization"
   ],
   "metadata": {
    "nteract": {
     "transient": {
      "deleting": false
     }
    }
   }
  },
  {
   "cell_type": "code",
   "source": [
    "# num_samples, num_channels, num_features = X_train_fft_arr.shape\n",
    "# X_train_reshaped = X_train_fft_arr.reshape((num_samples, num_channels * num_features))\n",
    "\n",
    "# # Compute mean and standard deviation for each sample\n",
    "# mean_per_sample = np.mean(X_train_reshaped, axis=1, keepdims=True)\n",
    "# std_per_sample = np.std(X_train_reshaped, axis=1, keepdims=True)\n",
    "\n",
    "# # Apply z-score normalization for each sample\n",
    "# X_train_normalized_reshaped = (X_train_reshaped - mean_per_sample) / std_per_sample\n",
    "\n",
    "# # Reshape the normalized array back to the original shape\n",
    "# X_train_normalized = X_train_normalized_reshaped.reshape((num_samples, num_channels, num_features))\n",
    "\n",
    "# X_train_normalized.shape #It has the same shape as X_train_arr\n",
    "# #Do the same for the test set\n",
    "# num_samples, num_channels, num_features = X_test_fft_arr.shape\n",
    "# X_test_reshaped = X_test_fft_arr.reshape((num_samples, num_channels * num_features))\n",
    "\n",
    "# mean_per_sample = np.mean(X_test_reshaped, axis=1, keepdims=True)\n",
    "# std_per_sample = np.std(X_test_reshaped, axis=1, keepdims=True)\n",
    "\n",
    "# X_test_normalized_reshaped = (X_test_reshaped - mean_per_sample) / std_per_sample\n",
    "\n",
    "# X_test_normalized = X_test_normalized_reshaped.reshape((num_samples, num_channels, num_features))\n",
    "\n",
    "# X_test_normalized.shape"
   ],
   "outputs": [],
   "execution_count": 305,
   "metadata": {
    "gather": {
     "logged": 1704131755261
    }
   }
  },
  {
   "cell_type": "markdown",
   "source": [
    "* why is this size changing"
   ],
   "metadata": {
    "nteract": {
     "transient": {
      "deleting": false
     }
    }
   }
  },
  {
   "cell_type": "code",
   "source": [
    "y_train_arr.size"
   ],
   "outputs": [
    {
     "output_type": "execute_result",
     "execution_count": 306,
     "data": {
      "text/plain": "1128"
     },
     "metadata": {}
    }
   ],
   "execution_count": 306,
   "metadata": {
    "jupyter": {
     "source_hidden": false,
     "outputs_hidden": false
    },
    "nteract": {
     "transient": {
      "deleting": false
     }
    },
    "gather": {
     "logged": 1704131755484
    }
   }
  },
  {
   "cell_type": "code",
   "source": [
    "X_train_tensor = torch.tensor(X_train_normalized, dtype=torch.float32)\n",
    "y_train_tensor = torch.tensor(y_train_arr, dtype=torch.float32)\n",
    "\n",
    "X_test_tensor = torch.tensor(X_test_normalized, dtype=torch.float32)\n",
    "y_test_tensor = torch.tensor(y_test_arr, dtype=torch.float32)\n",
    "\n",
    "\n",
    "train_dataset = TensorDataset(X_train_tensor, y_train_tensor)\n",
    "test_dataset = TensorDataset(X_test_tensor, y_test_tensor)\n",
    "\n",
    "batch_size = 32\n",
    "train_loader = DataLoader(train_dataset, batch_size=batch_size, shuffle=True)\n",
    "test_loader = DataLoader(test_dataset, batch_size=batch_size, shuffle=False)"
   ],
   "outputs": [],
   "execution_count": 307,
   "metadata": {
    "gather": {
     "logged": 1704131755709
    }
   }
  },
  {
   "cell_type": "code",
   "source": [
    "input_size = (\n",
    "    6 * window_length // 2\n",
    ")  # Input size is now halved because the FFT contains half the number of points in the time series\n",
    "hidden_size = 35\n",
    "output_size = 1"
   ],
   "outputs": [],
   "execution_count": 308,
   "metadata": {
    "gather": {
     "logged": 1704131755860
    }
   }
  },
  {
   "cell_type": "code",
   "source": [
    "model = FaultClassifier(input_size, hidden_size, output_size)\n",
    "\n",
    "# weihted loss equation=total no. off samples /(no. of class samlpe * no. of classes)\n",
    "criterion = nn.BCEWithLogitsLoss(pos_weight=torch.tensor(1.2234982332155477))\n",
    "\n",
    "# normal loss function\n",
    "# criterion = nn.BCELoss()\n",
    "optimizer = optim.Adam(model.parameters(), lr=0.001)"
   ],
   "outputs": [],
   "execution_count": 309,
   "metadata": {
    "gather": {
     "logged": 1704131756009
    }
   }
  },
  {
   "cell_type": "code",
   "source": [
    "train_accuracies = []\n",
    "test_accuracies = []\n",
    "\n",
    "num_epochs = 50\n",
    "\n",
    "early_stopping_patience = (\n",
    "    10  # Number of epochs with no improvement after which training will be stopped\n",
    ")\n",
    "\n",
    "\n",
    "best_test_accuracy = 0.0\n",
    "best_epoch = 0\n",
    "\n",
    "for epoch in range(num_epochs):\n",
    "    model.train()\n",
    "    for inputs, labels in train_loader:\n",
    "        optimizer.zero_grad()\n",
    "        outputs = model(inputs)\n",
    "        loss = criterion(outputs.squeeze(), labels.float())\n",
    "        loss.backward()\n",
    "        optimizer.step()\n",
    "\n",
    "    print(f\"Epoch {epoch+1}/{num_epochs}, Loss: {loss.item()}\")\n",
    "\n",
    "    model.eval()\n",
    "\n",
    "    with torch.no_grad():\n",
    "        correct_train = 0\n",
    "        total_train = 0\n",
    "        for inputs, labels in train_loader:\n",
    "            outputs = model(inputs)\n",
    "            predicted_train = (outputs > 0.5).float()\n",
    "            total_train += labels.size(0)\n",
    "            correct_train += (predicted_train == labels.view(-1, 1)).sum().item()\n",
    "\n",
    "        train_accuracy = correct_train / total_train\n",
    "        train_accuracies.append(train_accuracy)\n",
    "\n",
    "    with torch.no_grad():\n",
    "        correct_test = 0\n",
    "        total_test = 0\n",
    "        for inputs, labels in test_loader:\n",
    "            outputs = model(inputs)\n",
    "            predicted_test = (outputs > 0.5).float()\n",
    "            total_test += labels.size(0)\n",
    "            correct_test += (predicted_test == labels.view(-1, 1)).sum().item()\n",
    "\n",
    "        test_accuracy = correct_test / total_test\n",
    "        test_accuracies.append(test_accuracy)\n",
    "\n",
    "    print(\n",
    "        f\"Epoch [{epoch+1}/{num_epochs}], Loss: {loss.item():.4f}, Train Acc: {train_accuracy:.4f}, Test Acc: {test_accuracy:.4f}\"\n",
    "    )\n",
    "\n",
    "    # Check for early stopping\n",
    "    if test_accuracy > best_test_accuracy:\n",
    "        best_test_accuracy = test_accuracy\n",
    "        best_epoch = epoch + 1\n",
    "        # Save the model checkpoint if it has the best test accuracy\n",
    "        torch.save(model.state_dict(), \"best_model.pth\")\n",
    "    elif epoch - best_epoch >= early_stopping_patience:\n",
    "        print(\n",
    "            f\"Early stopping at epoch {epoch+1} as there is no improvement in test accuracy for the last {early_stopping_patience} epochs.\"\n",
    "        )\n",
    "        break\n",
    "\n",
    "# Visualize the learning curves\n",
    "plt.plot(range(1, len(train_accuracies) + 1), train_accuracies, label=\"Train Accuracy\")\n",
    "plt.plot(range(1, len(test_accuracies) + 1), test_accuracies, label=\"Test Accuracy\")\n",
    "plt.xlabel(\"Epoch\")\n",
    "plt.ylabel(\"Accuracy\")\n",
    "plt.title(\"Training and Test Accuracies over Epochs\")\n",
    "plt.legend()\n",
    "plt.show()"
   ],
   "outputs": [
    {
     "output_type": "stream",
     "name": "stdout",
     "text": "Epoch 1/50, Loss: 0.688446044921875\nEpoch [1/50], Loss: 0.6884, Train Acc: 0.8262, Test Acc: 0.8070\nEpoch 2/50, Loss: 0.6314500570297241\nEpoch [2/50], Loss: 0.6315, Train Acc: 0.8528, Test Acc: 0.7939\nEpoch 3/50, Loss: 0.7629991769790649\nEpoch [3/50], Loss: 0.7630, Train Acc: 0.8918, Test Acc: 0.7763\nEpoch 4/50, Loss: 0.5756024122238159\nEpoch [4/50], Loss: 0.5756, Train Acc: 0.9238, Test Acc: 0.7895\nEpoch 5/50, Loss: 0.6174503564834595\nEpoch [5/50], Loss: 0.6175, Train Acc: 0.9326, Test Acc: 0.7500\nEpoch 6/50, Loss: 0.525160014629364\nEpoch [6/50], Loss: 0.5252, Train Acc: 0.9362, Test Acc: 0.7500\nEpoch 7/50, Loss: 0.5443630814552307\nEpoch [7/50], Loss: 0.5444, Train Acc: 0.9406, Test Acc: 0.7763\nEpoch 8/50, Loss: 0.5125504732131958\nEpoch [8/50], Loss: 0.5126, Train Acc: 0.9424, Test Acc: 0.7763\nEpoch 9/50, Loss: 0.46867692470550537\nEpoch [9/50], Loss: 0.4687, Train Acc: 0.9521, Test Acc: 0.7500\nEpoch 10/50, Loss: 0.59513258934021\nEpoch [10/50], Loss: 0.5951, Train Acc: 0.9574, Test Acc: 0.7412\nEpoch 11/50, Loss: 0.6287192106246948\nEpoch [11/50], Loss: 0.6287, Train Acc: 0.9583, Test Acc: 0.7412\nEpoch 12/50, Loss: 0.5029726624488831\nEpoch [12/50], Loss: 0.5030, Train Acc: 0.9592, Test Acc: 0.7412\nEarly stopping at epoch 12 as there is no improvement in test accuracy for the last 10 epochs.\n"
    },
    {
     "output_type": "display_data",
     "data": {
      "text/plain": "<Figure size 640x480 with 1 Axes>",
      "image/png": "[encoded data removed]"
     },
     "metadata": {}
    }
   ],
   "execution_count": 310,
   "metadata": {
    "gather": {
     "logged": 1704131756476
    }
   }
  },
  {
   "cell_type": "code",
   "source": [
    "best_model = FaultClassifier(input_size, hidden_size, output_size)\n",
    "best_model.load_state_dict(torch.load(\"best_model.pth\"))\n",
    "best_model.eval()\n",
    "\n",
    "# Evaluation\n",
    "with torch.no_grad():\n",
    "    correct_test = 0\n",
    "    total_test = 0\n",
    "    all_predicted = []\n",
    "    all_labels = []\n",
    "    for inputs, labels in test_loader:\n",
    "        outputs = best_model(inputs)  # Use the best model for evaluation\n",
    "        predicted_test = (outputs > 0.5).float()\n",
    "        total_test += labels.size(0)\n",
    "        correct_test += (predicted_test == labels.view(-1, 1)).sum().item()\n",
    "\n",
    "        all_predicted.extend(predicted_test.cpu().numpy())\n",
    "        all_labels.extend(labels.view(-1, 1).cpu().numpy())\n",
    "\n",
    "test_accuracy = correct_test / total_test\n",
    "precision_positive = precision_score(all_labels, all_predicted, pos_label=1)\n",
    "recall_positive = recall_score(all_labels, all_predicted, pos_label=1)\n",
    "f1_positive = f1_score(all_labels, all_predicted, pos_label=1)\n",
    "\n",
    "precision_negative = precision_score(all_labels, all_predicted, pos_label=0)\n",
    "recall_negative = recall_score(all_labels, all_predicted, pos_label=0)\n",
    "f1_negative = f1_score(all_labels, all_predicted, pos_label=0)\n",
    "\n",
    "print(f\"Test Accuracy: {test_accuracy:.4f}\")\n",
    "print(\"Metrics for Positive Class:\")\n",
    "print(f\"Precision: {precision_positive:.4f}\")\n",
    "print(f\"Recall: {recall_positive:.4f}\")\n",
    "print(f\"F1 Score: {f1_positive:.4f}\")\n",
    "\n",
    "print(\"Metrics for Negative Class:\")\n",
    "print(f\"Precision: {precision_negative:.4f}\")\n",
    "print(f\"Recall: {recall_negative:.4f}\")\n",
    "print(f\"F1 Score: {f1_negative:.4f}\")\n",
    "\n",
    "# Confusion Matrix\n",
    "cm = confusion_matrix(all_labels, all_predicted)\n",
    "# print('Confusion Matrix:')\n",
    "# print(cm)\n",
    "\n",
    "# Plot Confusion Matrix\n",
    "plt.figure(figsize=(8, 6))\n",
    "sns.heatmap(\n",
    "    cm,\n",
    "    annot=True,\n",
    "    fmt=\"d\",\n",
    "    cmap=\"Blues\",\n",
    "    xticklabels=[\"Negative\", \"Positive\"],\n",
    "    yticklabels=[\"Negative\", \"Positive\"],\n",
    ")\n",
    "plt.xlabel(\"Predicted\")\n",
    "plt.ylabel(\"True\")\n",
    "plt.title(\"Confusion Matrix\")\n",
    "plt.show()"
   ],
   "outputs": [
    {
     "output_type": "stream",
     "name": "stdout",
     "text": "Test Accuracy: 0.8070\nMetrics for Positive Class:\nPrecision: 0.6852\nRecall: 0.8810\nF1 Score: 0.7708\nMetrics for Negative Class:\nPrecision: 0.9167\nRecall: 0.7639\nF1 Score: 0.8333\n"
    },
    {
     "output_type": "display_data",
     "data": {
      "text/plain": "<Figure size 800x600 with 2 Axes>",
      "image/png": "[encoded data removed]"
     },
     "metadata": {}
    }
   ],
   "execution_count": 311,
   "metadata": {
    "gather": {
     "logged": 1704131756810
    }
   }
  },
  {
   "cell_type": "code",
   "source": [],
   "outputs": [],
   "execution_count": null,
   "metadata": {
    "jupyter": {
     "source_hidden": false,
     "outputs_hidden": false
    },
    "nteract": {
     "transient": {
      "deleting": false
     }
    }
   }
  }
 ],
 "metadata": {
  "kernel_info": {
   "name": "python38-azureml"
  },
  "kernelspec": {
   "name": "python38-azureml",
   "language": "python",
   "display_name": "Python 3.8 - AzureML"
  },
  "language_info": {
   "name": "python",
   "version": "3.8.5",
   "mimetype": "text/x-python",
   "codemirror_mode": {
    "name": "ipython",
    "version": 3
   },
   "pygments_lexer": "ipython3",
   "nbconvert_exporter": "python",
   "file_extension": ".py"
  },
  "microsoft": {
   "ms_spell_check": {
    "ms_spell_check_language": "en"
   },
   "host": {
    "AzureML": {
     "notebookHasBeenCompleted": true
    }
   }
  },
  "nteract": {
   "version": "nteract-front-end@1.0.0"
  }
 },
 "nbformat": 4,
 "nbformat_minor": 2
}