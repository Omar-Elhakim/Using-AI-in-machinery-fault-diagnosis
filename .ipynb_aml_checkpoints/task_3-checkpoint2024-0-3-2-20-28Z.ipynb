{
 "cells": [
  {
   "cell_type": "code",
   "execution_count": 199,
   "metadata": {
    "gather": {
     "logged": 1703460563873
    }
   },
   "outputs": [],
   "source": [
    "import pandas as pd\n",
    "import numpy as np\n",
    "import matplotlib.pyplot as plt\n",
    "import scipy as sc\n",
    "import torch\n",
    "import torch.nn as nn\n",
    "import torch.nn.functional as F\n",
    "from sklearn.model_selection import train_test_split\n",
    "from sklearn.metrics import accuracy_score"
   ]
  },
  {
   "cell_type": "code",
   "execution_count": 200,
   "metadata": {
    "gather": {
     "logged": 1703460566546
    }
   },
   "outputs": [],
   "source": [
    "df = pd.read_pickle(\"acc_HR_ssh.pkl\")"
   ]
  },
  {
   "cell_type": "markdown",
   "metadata": {
    "nteract": {
     "transient": {
      "deleting": false
     }
    }
   },
   "source": [
    "# Extracting information"
   ]
  },
  {
   "cell_type": "code",
   "execution_count": 202,
   "metadata": {
    "gather": {
     "logged": 1703460567711
    }
   },
   "outputs": [],
   "source": [
    "df[\"mean\"] = \"\"\n",
    "df[\"std\"] = \"\"\n",
    "df[\"kurtosis\"] = \"\"\n",
    "df[\"skewness\"] = \"\"\n",
    "df[\"max\"] = \"\"\n",
    "df[\"min\"] = \"\"\n",
    "df[\"crest factor\"] = \"\"\n",
    "df[\"rms\"] = \"\"\n",
    "df[\"shape factor\"] = \"\"\n",
    "df[\"pump label\"] = \"\""
   ]
  },
  {
   "cell_type": "code",
   "execution_count": 203,
   "metadata": {
    "gather": {
     "logged": 1703460568432
    }
   },
   "outputs": [],
   "source": [
    "for i, row in df.iterrows():\n",
    "    means = []\n",
    "    for ts in row[\"ts\"]:\n",
    "        means.append(np.nanmean(ts))\n",
    "    df[\"mean\"][i] = means"
   ]
  },
  {
   "cell_type": "code",
   "execution_count": 204,
   "metadata": {
    "gather": {
     "logged": 1703460568970
    }
   },
   "outputs": [],
   "source": [
    "for i, row in df.iterrows():\n",
    "    std = []\n",
    "    for ts in row[\"ts\"]:\n",
    "        std.append(np.nanstd(ts))\n",
    "    df[\"std\"][i] = std"
   ]
  },
  {
   "cell_type": "code",
   "execution_count": 205,
   "metadata": {
    "gather": {
     "logged": 1703460569588
    }
   },
   "outputs": [],
   "source": [
    "for i, row in df.iterrows():\n",
    "    kurtosis = []\n",
    "    for ts in row[\"ts\"]:\n",
    "        kurtosis.append(sc.stats.kurtosis(ts, nan_policy=\"omit\"))\n",
    "    df[\"kurtosis\"][i] = kurtosis"
   ]
  },
  {
   "cell_type": "code",
   "execution_count": 206,
   "metadata": {
    "gather": {
     "logged": 1703460570129
    }
   },
   "outputs": [],
   "source": [
    "for i, row in df.iterrows():\n",
    "    skewness = []\n",
    "    for ts in row[\"ts\"]:\n",
    "        skewness.append(sc.stats.skew(ts, nan_policy=\"omit\"))\n",
    "    df[\"skewness\"][i] = skewness"
   ]
  },
  {
   "cell_type": "code",
   "execution_count": 207,
   "metadata": {
    "gather": {
     "logged": 1703460570871
    }
   },
   "outputs": [],
   "source": [
    "for i, row in df.iterrows():\n",
    "    max = []\n",
    "    for ts in row[\"ts\"]:\n",
    "        max.append(np.nanmax(ts))\n",
    "    df[\"max\"][i] = max"
   ]
  },
  {
   "cell_type": "code",
   "execution_count": 208,
   "metadata": {
    "gather": {
     "logged": 1703460571383
    }
   },
   "outputs": [],
   "source": [
    "for i, row in df.iterrows():\n",
    "    min = []\n",
    "    for ts in row[\"ts\"]:\n",
    "        min.append(np.nanmin(ts))\n",
    "    df[\"min\"][i] = min"
   ]
  },
  {
   "cell_type": "code",
   "execution_count": 209,
   "metadata": {
    "gather": {
     "logged": 1703460571905
    }
   },
   "outputs": [],
   "source": [
    "for i, row in df.iterrows():\n",
    "    rms = []\n",
    "    for ts in row[\"ts\"]:\n",
    "        rms.append(np.sqrt(np.nanmean(ts**2)))\n",
    "    df[\"rms\"][i] = rms"
   ]
  },
  {
   "cell_type": "code",
   "execution_count": 210,
   "metadata": {
    "gather": {
     "logged": 1703460572444
    }
   },
   "outputs": [],
   "source": [
    "for i, row in df.iterrows():\n",
    "    cf = []\n",
    "    for ts in row[\"ts\"]:\n",
    "        cf.append(np.nanmax(ts) / (np.sqrt(np.nanmean(ts**2))))\n",
    "    df[\"crest factor\"][i] = cf"
   ]
  },
  {
   "cell_type": "code",
   "execution_count": 211,
   "metadata": {
    "gather": {
     "logged": 1703460573129
    }
   },
   "outputs": [],
   "source": [
    "for i, row in df.iterrows():\n",
    "    shf = []\n",
    "    for ts in row[\"ts\"]:\n",
    "        shf.append(np.sqrt(np.nanmean(ts**2)) / np.nanmean(abs(ts)))\n",
    "    df[\"shape factor\"][i] = shf"
   ]
  },
  {
   "cell_type": "code",
   "execution_count": 212,
   "metadata": {
    "gather": {
     "logged": 1703460573664
    }
   },
   "outputs": [],
   "source": [
    "# 1 --> has pump problem\n",
    "# 0 --> doesn't have pump problem\n",
    "\n",
    "for i, row in df.iterrows():\n",
    "    if \"Pump_Flow_Problem.\" in row[\"faults\"]:\n",
    "        df.loc[i, \"pump label\"] = \"1\"\n",
    "    else:\n",
    "        df.loc[i, \"pump label\"] = \"0\""
   ]
  },
  {
   "cell_type": "code",
   "execution_count": 213,
   "metadata": {
    "gather": {
     "logged": 1703460574707
    }
   },
   "outputs": [
    {
     "data": {
      "text/html": [
       "<div>\n",
       "<style scoped>\n",
       "    .dataframe tbody tr th:only-of-type {\n",
       "        vertical-align: middle;\n",
       "    }\n",
       "\n",
       "    .dataframe tbody tr th {\n",
       "        vertical-align: top;\n",
       "    }\n",
       "\n",
       "    .dataframe thead th {\n",
       "        text-align: right;\n",
       "    }\n",
       "</style>\n",
       "<table border=\"1\" class=\"dataframe\">\n",
       "  <thead>\n",
       "    <tr style=\"text-align: right;\">\n",
       "      <th></th>\n",
       "      <th>ts</th>\n",
       "      <th>status</th>\n",
       "      <th>faults</th>\n",
       "      <th>machine_name</th>\n",
       "      <th>report_date</th>\n",
       "      <th>portal_date</th>\n",
       "      <th>mean</th>\n",
       "      <th>std</th>\n",
       "      <th>kurtosis</th>\n",
       "      <th>skewness</th>\n",
       "      <th>max</th>\n",
       "      <th>min</th>\n",
       "      <th>crest factor</th>\n",
       "      <th>rms</th>\n",
       "      <th>shape factor</th>\n",
       "      <th>pump label</th>\n",
       "    </tr>\n",
       "  </thead>\n",
       "  <tbody>\n",
       "    <tr>\n",
       "      <th>0</th>\n",
       "      <td>[[0.698928444, -0.506124287, -0.028853162, 0.3...</td>\n",
       "      <td>l3</td>\n",
       "      <td>[Machine_Bearings_Lubrication_Problem., Machin...</td>\n",
       "      <td>mainfana</td>\n",
       "      <td>2021-01-21 00:00:00</td>\n",
       "      <td>2021-01-21 00:00:00</td>\n",
       "      <td>[-5.5247938583639013e-05, -1.4844203638583522e...</td>\n",
       "      <td>[0.42338053138935366, 0.2883417070847872, 0.21...</td>\n",
       "      <td>[-0.6836664996037509, 0.0809598823296338, -0.1...</td>\n",
       "      <td>[0.0369235998435768, -0.019098899629931575, -0...</td>\n",
       "      <td>[1.237621822, 1.100985244, 0.656183891, 2.0379...</td>\n",
       "      <td>[-1.185769862, -1.123482009, -0.733821692, -2....</td>\n",
       "      <td>[2.9231901792965758, 3.8183350361356876, 3.084...</td>\n",
       "      <td>[0.42338053499407147, 0.28834170746688653, 0.2...</td>\n",
       "      <td>[1.200198929812367, 1.2543909766979386, 1.2497...</td>\n",
       "      <td>0</td>\n",
       "    </tr>\n",
       "    <tr>\n",
       "      <th>1</th>\n",
       "      <td>[[-0.552567831, 0.791081268, 0.252465092, -0.6...</td>\n",
       "      <td>l3</td>\n",
       "      <td>[Machine_Bearings_Lubrication_Problem., Machin...</td>\n",
       "      <td>mainfana</td>\n",
       "      <td>2021-06-16 00:00:00</td>\n",
       "      <td>2021-06-16 00:00:00</td>\n",
       "      <td>[-3.866748863247928e-05, 9.495890844932897e-05...</td>\n",
       "      <td>[0.49927098681774634, 0.28482178658545587, 0.1...</td>\n",
       "      <td>[-0.9072378567424231, -0.14520098735034592, -0...</td>\n",
       "      <td>[0.038023023966509806, -0.12115576513622346, -...</td>\n",
       "      <td>[1.277422037, 0.961079871, 0.478181753, 4.7098...</td>\n",
       "      <td>[-1.312764919, -1.102373739, -0.588164551, -2....</td>\n",
       "      <td>[2.558574535466063, 3.374319882997163, 2.91864...</td>\n",
       "      <td>[0.49927098831510425, 0.28482180241499294, 0.1...</td>\n",
       "      <td>[1.1761160967795556, 1.2425966205728132, 1.241...</td>\n",
       "      <td>0</td>\n",
       "    </tr>\n",
       "    <tr>\n",
       "      <th>2</th>\n",
       "      <td>[[-0.291980794, -0.759598587, 0.013602628, 0.7...</td>\n",
       "      <td>l3</td>\n",
       "      <td>[Machine_Misalignment., Structural_Looseness.,...</td>\n",
       "      <td>mainfana</td>\n",
       "      <td>2020-10-14 00:00:00</td>\n",
       "      <td>2020-10-14 00:00:00</td>\n",
       "      <td>[-0.00011569433003662677, -9.698854069601204e-...</td>\n",
       "      <td>[0.8771231969017833, 0.5164405579538317, 0.498...</td>\n",
       "      <td>[-0.3346618249080735, -0.3072253646470111, -0....</td>\n",
       "      <td>[0.28831165060045216, -0.2788802963547298, -0....</td>\n",
       "      <td>[2.905158347, 1.49199512, 1.453887597, 7.73022...</td>\n",
       "      <td>[-2.826706469, -1.656773151, -1.485662608, -6....</td>\n",
       "      <td>[3.31214398614648, 2.888996800809494, 2.915384...</td>\n",
       "      <td>[0.8771232045319418, 0.5164405580449049, 0.498...</td>\n",
       "      <td>[1.2304313317648763, 1.2315127468524538, 1.218...</td>\n",
       "      <td>0</td>\n",
       "    </tr>\n",
       "    <tr>\n",
       "      <th>3</th>\n",
       "      <td>[[0.376561978, -0.212110108, 0.26475303, 0.918...</td>\n",
       "      <td>l3</td>\n",
       "      <td>[Machine_Bearings_Lubrication_Problem., Machin...</td>\n",
       "      <td>mainfana</td>\n",
       "      <td>2021-05-27 00:00:00</td>\n",
       "      <td>2021-05-27 00:00:00</td>\n",
       "      <td>[-1.4565605926737413e-05, -4.519292691086498e-...</td>\n",
       "      <td>[0.7950953065748968, 0.3003849115558326, 0.176...</td>\n",
       "      <td>[-0.2811532613027583, 0.10012464711429914, 0.0...</td>\n",
       "      <td>[0.029107691965882865, 0.3880407968307634, -0....</td>\n",
       "      <td>[3.663812522, 1.232993775, 0.520759012, 4.6999...</td>\n",
       "      <td>[-2.866883579, -0.980662188, -0.79051409, -4.5...</td>\n",
       "      <td>[4.60801678878995, 4.104712698980825, 2.950225...</td>\n",
       "      <td>[0.7950953067083129, 0.3003849149554717, 0.176...</td>\n",
       "      <td>[1.228483229482808, 1.266831690215848, 1.24286...</td>\n",
       "      <td>0</td>\n",
       "    </tr>\n",
       "    <tr>\n",
       "      <th>4</th>\n",
       "      <td>[[0.769191343, -0.70274564, 0.230745098, 0.356...</td>\n",
       "      <td>hmv</td>\n",
       "      <td>[Machine_Misalignment., Machine_Bearings_Loosn...</td>\n",
       "      <td>mainfana</td>\n",
       "      <td>2022-01-20 00:00:00</td>\n",
       "      <td>2022-01-20 00:00:00</td>\n",
       "      <td>[-9.323362112332253e-05, 0.0002354506529914499...</td>\n",
       "      <td>[0.6249363815347525, 0.6398038406710516, 0.234...</td>\n",
       "      <td>[-0.40981612299295067, -0.20028196902840145, -...</td>\n",
       "      <td>[-0.02478559961816128, 0.006539361515471054, 0...</td>\n",
       "      <td>[1.88134193, 2.123217372, 0.801750988, 2.63123...</td>\n",
       "      <td>[-2.045216963, -2.004436654, -0.745348378, -2....</td>\n",
       "      <td>[3.010453487189936, 3.318544049379788, 3.42093...</td>\n",
       "      <td>[0.6249363884894669, 0.6398038839944927, 0.234...</td>\n",
       "      <td>[1.2268892176518016, 1.2474301872293234, 1.239...</td>\n",
       "      <td>0</td>\n",
       "    </tr>\n",
       "  </tbody>\n",
       "</table>\n",
       "</div>"
      ],
      "text/plain": [
       "                                                  ts status  \\\n",
       "0  [[0.698928444, -0.506124287, -0.028853162, 0.3...     l3   \n",
       "1  [[-0.552567831, 0.791081268, 0.252465092, -0.6...     l3   \n",
       "2  [[-0.291980794, -0.759598587, 0.013602628, 0.7...     l3   \n",
       "3  [[0.376561978, -0.212110108, 0.26475303, 0.918...     l3   \n",
       "4  [[0.769191343, -0.70274564, 0.230745098, 0.356...    hmv   \n",
       "\n",
       "                                              faults machine_name  \\\n",
       "0  [Machine_Bearings_Lubrication_Problem., Machin...     mainfana   \n",
       "1  [Machine_Bearings_Lubrication_Problem., Machin...     mainfana   \n",
       "2  [Machine_Misalignment., Structural_Looseness.,...     mainfana   \n",
       "3  [Machine_Bearings_Lubrication_Problem., Machin...     mainfana   \n",
       "4  [Machine_Misalignment., Machine_Bearings_Loosn...     mainfana   \n",
       "\n",
       "           report_date          portal_date  \\\n",
       "0  2021-01-21 00:00:00  2021-01-21 00:00:00   \n",
       "1  2021-06-16 00:00:00  2021-06-16 00:00:00   \n",
       "2  2020-10-14 00:00:00  2020-10-14 00:00:00   \n",
       "3  2021-05-27 00:00:00  2021-05-27 00:00:00   \n",
       "4  2022-01-20 00:00:00  2022-01-20 00:00:00   \n",
       "\n",
       "                                                mean  \\\n",
       "0  [-5.5247938583639013e-05, -1.4844203638583522e...   \n",
       "1  [-3.866748863247928e-05, 9.495890844932897e-05...   \n",
       "2  [-0.00011569433003662677, -9.698854069601204e-...   \n",
       "3  [-1.4565605926737413e-05, -4.519292691086498e-...   \n",
       "4  [-9.323362112332253e-05, 0.0002354506529914499...   \n",
       "\n",
       "                                                 std  \\\n",
       "0  [0.42338053138935366, 0.2883417070847872, 0.21...   \n",
       "1  [0.49927098681774634, 0.28482178658545587, 0.1...   \n",
       "2  [0.8771231969017833, 0.5164405579538317, 0.498...   \n",
       "3  [0.7950953065748968, 0.3003849115558326, 0.176...   \n",
       "4  [0.6249363815347525, 0.6398038406710516, 0.234...   \n",
       "\n",
       "                                            kurtosis  \\\n",
       "0  [-0.6836664996037509, 0.0809598823296338, -0.1...   \n",
       "1  [-0.9072378567424231, -0.14520098735034592, -0...   \n",
       "2  [-0.3346618249080735, -0.3072253646470111, -0....   \n",
       "3  [-0.2811532613027583, 0.10012464711429914, 0.0...   \n",
       "4  [-0.40981612299295067, -0.20028196902840145, -...   \n",
       "\n",
       "                                            skewness  \\\n",
       "0  [0.0369235998435768, -0.019098899629931575, -0...   \n",
       "1  [0.038023023966509806, -0.12115576513622346, -...   \n",
       "2  [0.28831165060045216, -0.2788802963547298, -0....   \n",
       "3  [0.029107691965882865, 0.3880407968307634, -0....   \n",
       "4  [-0.02478559961816128, 0.006539361515471054, 0...   \n",
       "\n",
       "                                                 max  \\\n",
       "0  [1.237621822, 1.100985244, 0.656183891, 2.0379...   \n",
       "1  [1.277422037, 0.961079871, 0.478181753, 4.7098...   \n",
       "2  [2.905158347, 1.49199512, 1.453887597, 7.73022...   \n",
       "3  [3.663812522, 1.232993775, 0.520759012, 4.6999...   \n",
       "4  [1.88134193, 2.123217372, 0.801750988, 2.63123...   \n",
       "\n",
       "                                                 min  \\\n",
       "0  [-1.185769862, -1.123482009, -0.733821692, -2....   \n",
       "1  [-1.312764919, -1.102373739, -0.588164551, -2....   \n",
       "2  [-2.826706469, -1.656773151, -1.485662608, -6....   \n",
       "3  [-2.866883579, -0.980662188, -0.79051409, -4.5...   \n",
       "4  [-2.045216963, -2.004436654, -0.745348378, -2....   \n",
       "\n",
       "                                        crest factor  \\\n",
       "0  [2.9231901792965758, 3.8183350361356876, 3.084...   \n",
       "1  [2.558574535466063, 3.374319882997163, 2.91864...   \n",
       "2  [3.31214398614648, 2.888996800809494, 2.915384...   \n",
       "3  [4.60801678878995, 4.104712698980825, 2.950225...   \n",
       "4  [3.010453487189936, 3.318544049379788, 3.42093...   \n",
       "\n",
       "                                                 rms  \\\n",
       "0  [0.42338053499407147, 0.28834170746688653, 0.2...   \n",
       "1  [0.49927098831510425, 0.28482180241499294, 0.1...   \n",
       "2  [0.8771232045319418, 0.5164405580449049, 0.498...   \n",
       "3  [0.7950953067083129, 0.3003849149554717, 0.176...   \n",
       "4  [0.6249363884894669, 0.6398038839944927, 0.234...   \n",
       "\n",
       "                                        shape factor pump label  \n",
       "0  [1.200198929812367, 1.2543909766979386, 1.2497...          0  \n",
       "1  [1.1761160967795556, 1.2425966205728132, 1.241...          0  \n",
       "2  [1.2304313317648763, 1.2315127468524538, 1.218...          0  \n",
       "3  [1.228483229482808, 1.266831690215848, 1.24286...          0  \n",
       "4  [1.2268892176518016, 1.2474301872293234, 1.239...          0  "
      ]
     },
     "execution_count": 213,
     "metadata": {},
     "output_type": "execute_result"
    }
   ],
   "source": [
    "df.head()"
   ]
  },
  {
   "cell_type": "markdown",
   "metadata": {
    "nteract": {
     "transient": {
      "deleting": false
     }
    }
   },
   "source": [
    "# Adjusting the data to be trained on"
   ]
  },
  {
   "cell_type": "code",
   "execution_count": 214,
   "metadata": {
    "gather": {
     "logged": 1703460575307
    }
   },
   "outputs": [],
   "source": [
    "training_cols = [\n",
    "    \"mean\",\n",
    "    \"std\",\n",
    "    \"kurtosis\",\n",
    "    \"skewness\",\n",
    "    \"max\",\n",
    "    \"min\",\n",
    "    \"crest factor\",\n",
    "    \"rms\",\n",
    "    \"shape factor\",\n",
    "]"
   ]
  },
  {
   "cell_type": "code",
   "execution_count": 215,
   "metadata": {
    "gather": {
     "logged": 1703460576378
    }
   },
   "outputs": [],
   "source": [
    "all_data = np.stack(\n",
    "    [np.array(df[col].apply(lambda x: x[-6:])).tolist() for col in training_cols],\n",
    "    axis=1,\n",
    ")"
   ]
  },
  {
   "cell_type": "code",
   "execution_count": 216,
   "metadata": {
    "gather": {
     "logged": 1703460577100
    }
   },
   "outputs": [],
   "source": [
    "all_data = torch.tensor(all_data, dtype=float)"
   ]
  },
  {
   "cell_type": "code",
   "execution_count": 217,
   "metadata": {
    "gather": {
     "logged": 1703460577784
    }
   },
   "outputs": [],
   "source": [
    "y = torch.tensor(df[\"pump label\"].values.astype(float)).view(-1, 1)"
   ]
  },
  {
   "cell_type": "code",
   "execution_count": 218,
   "metadata": {
    "gather": {
     "logged": 1703460578301
    }
   },
   "outputs": [],
   "source": [
    "reshaped_data = all_data.view(213, -1)"
   ]
  },
  {
   "cell_type": "code",
   "execution_count": 219,
   "metadata": {
    "gather": {
     "logged": 1703460578991
    }
   },
   "outputs": [],
   "source": [
    "X_train, X_test, y_train, y_test = train_test_split(\n",
    "    reshaped_data, y, test_size=0.2, random_state=42\n",
    ")"
   ]
  },
  {
   "cell_type": "markdown",
   "metadata": {
    "nteract": {
     "transient": {
      "deleting": false
     }
    }
   },
   "source": [
    "# Building the model"
   ]
  },
  {
   "cell_type": "code",
   "execution_count": 285,
   "metadata": {
    "gather": {
     "logged": 1703462084848
    }
   },
   "outputs": [],
   "source": [
    "class ANN_model(nn.Module):\n",
    "    def __init__(self, input_size=54, output_size=1, layers=[25, 10]):\n",
    "        super().__init__()\n",
    "        self.fc1 = nn.Linear(input_size, layers[0])\n",
    "        self.dropout = nn.Dropout()\n",
    "        self.fc2 = nn.Linear(layers[0], layers[1])\n",
    "        self.fc3 = nn.Linear(layers[1], output_size)\n",
    "\n",
    "    def forward(self, x):\n",
    "        x = F.relu(self.fc1(x))\n",
    "        x = self.dropout(x)\n",
    "        x = F.relu(self.fc2(x))\n",
    "        x = self.dropout(x)\n",
    "        x = torch.sigmoid(self.fc3(x))\n",
    "\n",
    "        return x"
   ]
  },
  {
   "cell_type": "markdown",
   "metadata": {
    "nteract": {
     "transient": {
      "deleting": false
     }
    }
   },
   "source": [
    "* Defining optimizer and loss function"
   ]
  },
  {
   "cell_type": "code",
   "execution_count": 286,
   "metadata": {
    "gather": {
     "logged": 1703462086728
    }
   },
   "outputs": [],
   "source": [
    "torch.manual_seed(42)\n",
    "model = ANN_model()\n",
    "optimizer = torch.optim.Adam(model.parameters(), lr=0.01)\n",
    "criterion = nn.BCELoss()"
   ]
  },
  {
   "cell_type": "markdown",
   "metadata": {
    "nteract": {
     "transient": {
      "deleting": false
     }
    }
   },
   "source": [
    "# Training"
   ]
  },
  {
   "cell_type": "code",
   "execution_count": 287,
   "metadata": {
    "gather": {
     "logged": 1703462088045
    }
   },
   "outputs": [
    {
     "name": "stdout",
     "output_type": "stream",
     "text": [
      "epoch:  0 loss: 0.74731344   accuracy: 56.47%\n",
      "epoch:  1 loss: 0.63455462   accuracy: 72.94%\n",
      "epoch:  2 loss: 0.62284106   accuracy: 71.76%\n",
      "epoch:  3 loss: 0.65383595   accuracy: 73.53%\n",
      "epoch:  4 loss: 0.61911738   accuracy: 72.94%\n",
      "epoch:  5 loss: 0.58834338   accuracy: 73.53%\n",
      "epoch:  6 loss: 0.61028963   accuracy: 73.53%\n",
      "epoch:  7 loss: 0.63553315   accuracy: 73.53%\n",
      "epoch:  8 loss: 0.58313781   accuracy: 73.53%\n",
      "epoch:  9 loss: 0.59112251   accuracy: 73.53%\n",
      "epoch: 10 loss: 0.58489043   accuracy: 73.53%\n",
      "epoch: 11 loss: 0.58234102   accuracy: 73.53%\n",
      "epoch: 12 loss: 0.60033947   accuracy: 73.53%\n",
      "epoch: 13 loss: 0.57165492   accuracy: 73.53%\n",
      "epoch: 14 loss: 0.56941116   accuracy: 73.53%\n",
      "epoch: 15 loss: 0.58978224   accuracy: 73.53%\n",
      "epoch: 16 loss: 0.54628092   accuracy: 73.53%\n",
      "epoch: 17 loss: 0.56667662   accuracy: 73.53%\n",
      "epoch: 18 loss: 0.55646825   accuracy: 73.53%\n",
      "epoch: 19 loss: 0.55063546   accuracy: 73.53%\n",
      "epoch: 20 loss: 0.54417396   accuracy: 73.53%\n",
      "epoch: 21 loss: 0.56295729   accuracy: 73.53%\n",
      "epoch: 22 loss: 0.57774907   accuracy: 73.53%\n",
      "epoch: 23 loss: 0.54348356   accuracy: 73.53%\n",
      "epoch: 24 loss: 0.55396390   accuracy: 73.53%\n"
     ]
    }
   ],
   "source": [
    "losses = []\n",
    "epochs = 25\n",
    "\n",
    "for i in range(epochs):\n",
    "    y_train_predicted = model(X_train.float())\n",
    "    loss = criterion(y_train_predicted, y_train.float())\n",
    "    losses.append(loss)\n",
    "\n",
    "    y_train_predicted_binary = (y_train_predicted > 0.5).float()\n",
    "    accuracy = accuracy_score(y_train, y_train_predicted_binary)\n",
    "\n",
    "    print(f\"epoch: {i:2} loss: {loss.item():10.8f}   accuracy: {accuracy * 100:.2f}%\")\n",
    "    optimizer.zero_grad()\n",
    "    loss.backward()\n",
    "    optimizer.step()"
   ]
  },
  {
   "cell_type": "markdown",
   "metadata": {
    "nteract": {
     "transient": {
      "deleting": false
     }
    }
   },
   "source": [
    "# Validating"
   ]
  },
  {
   "cell_type": "code",
   "execution_count": 288,
   "metadata": {
    "gather": {
     "logged": 1703462089542
    },
    "jupyter": {
     "outputs_hidden": false,
     "source_hidden": false
    },
    "nteract": {
     "transient": {
      "deleting": false
     }
    }
   },
   "outputs": [
    {
     "name": "stdout",
     "output_type": "stream",
     "text": [
      "loss: 0.66084057   accuracy: 69.77%\n"
     ]
    }
   ],
   "source": [
    "with torch.no_grad():\n",
    "    y_test_predicted = model(X_test.float())\n",
    "    loss = criterion(y_test_predicted, y_test.float())\n",
    "\n",
    "    y_test_predicted_binary = (y_test_predicted > 0.5).float()\n",
    "    accuracy = accuracy_score(y_test, y_test_predicted_binary)\n",
    "\n",
    "    print(f\"loss: {loss.item():10.8f}   accuracy: {accuracy * 100:.2f}%\")"
   ]
  },
  {
   "cell_type": "code",
   "execution_count": null,
   "metadata": {
    "jupyter": {
     "outputs_hidden": false,
     "source_hidden": false
    },
    "nteract": {
     "transient": {
      "deleting": false
     }
    }
   },
   "outputs": [],
   "source": [
    "* ploting loss After each epoch"
   ]
  },
  {
   "cell_type": "code",
   "execution_count": 292,
   "metadata": {
    "gather": {
     "logged": 1703462234239
    },
    "jupyter": {
     "outputs_hidden": false,
     "source_hidden": false
    },
    "nteract": {
     "transient": {
      "deleting": false
     }
    }
   },
   "outputs": [
    {
     "data": {
      "image/png": "[encoded data removed]",
      "text/plain": [
       "<Figure size 640x480 with 1 Axes>"
      ]
     },
     "metadata": {},
     "output_type": "display_data"
    }
   ],
   "source": [
    "with torch.no_grad():\n",
    "    plt.plot(losses)\n",
    "    plt.xlabel(\"Epochs\")\n",
    "    plt.ylabel(\"BinaryCrossEntropyLoss\")"
   ]
  },
  {
   "cell_type": "code",
   "execution_count": null,
   "metadata": {
    "jupyter": {
     "outputs_hidden": false,
     "source_hidden": false
    },
    "nteract": {
     "transient": {
      "deleting": false
     }
    }
   },
   "outputs": [],
   "source": []
  }
 ],
 "metadata": {
  "kernel_info": {
   "name": "python38-azureml-pt-tf"
  },
  "kernelspec": {
   "display_name": "base",
   "language": "python",
   "name": "python3"
  },
  "language_info": {
   "codemirror_mode": {
    "name": "ipython",
    "version": 3
   },
   "file_extension": ".py",
   "mimetype": "text/x-python",
   "name": "python",
   "nbconvert_exporter": "python",
   "pygments_lexer": "ipython3",
   "version": "3.11.5"
  },
  "microsoft": {
   "host": {
    "AzureML": {
     "notebookHasBeenCompleted": true
    }
   },
   "ms_spell_check": {
    "ms_spell_check_language": "en"
   }
  },
  "nteract": {
   "version": "nteract-front-end@1.0.0"
  }
 },
 "nbformat": 4,
 "nbformat_minor": 2
}
