{
 "cells": [
  {
   "cell_type": "code",
   "execution_count": 5,
   "metadata": {},
   "outputs": [],
   "source": [
    "import pandas as pd"
   ]
  },
  {
   "cell_type": "code",
   "execution_count": 6,
   "metadata": {},
   "outputs": [],
   "source": [
    "df = pd.read_csv(\"azfc_labels.csv\")"
   ]
  },
  {
   "cell_type": "code",
   "execution_count": 7,
   "metadata": {},
   "outputs": [
    {
     "name": "stdout",
     "output_type": "stream",
     "text": [
      "<class 'pandas.core.frame.DataFrame'>\n",
      "RangeIndex: 5820 entries, 0 to 5819\n",
      "Data columns (total 7 columns):\n",
      " #   Column            Non-Null Count  Dtype \n",
      "---  ------            --------------  ----- \n",
      " 0   Unnamed: 0        5820 non-null   int64 \n",
      " 1   measurement_date  5820 non-null   object\n",
      " 2   machine_name      5820 non-null   object\n",
      " 3   bearing_fault     5820 non-null   int64 \n",
      " 4   status            5820 non-null   object\n",
      " 5   speed             5820 non-null   object\n",
      " 6   zone_number       5820 non-null   int64 \n",
      "dtypes: int64(3), object(4)\n",
      "memory usage: 318.4+ KB\n"
     ]
    }
   ],
   "source": [
    "df.info()"
   ]
  },
  {
   "cell_type": "code",
   "execution_count": 8,
   "metadata": {},
   "outputs": [
    {
     "data": {
      "text/html": [
       "<div>\n",
       "<style scoped>\n",
       "    .dataframe tbody tr th:only-of-type {\n",
       "        vertical-align: middle;\n",
       "    }\n",
       "\n",
       "    .dataframe tbody tr th {\n",
       "        vertical-align: top;\n",
       "    }\n",
       "\n",
       "    .dataframe thead th {\n",
       "        text-align: right;\n",
       "    }\n",
       "</style>\n",
       "<table border=\"1\" class=\"dataframe\">\n",
       "  <thead>\n",
       "    <tr style=\"text-align: right;\">\n",
       "      <th></th>\n",
       "      <th>Unnamed: 0</th>\n",
       "      <th>measurement_date</th>\n",
       "      <th>machine_name</th>\n",
       "      <th>bearing_fault</th>\n",
       "      <th>status</th>\n",
       "      <th>speed</th>\n",
       "      <th>zone_number</th>\n",
       "    </tr>\n",
       "  </thead>\n",
       "  <tbody>\n",
       "    <tr>\n",
       "      <th>0</th>\n",
       "      <td>0</td>\n",
       "      <td>1/4/2016</td>\n",
       "      <td>P-010-02 A Turbo-generator station pump</td>\n",
       "      <td>0</td>\n",
       "      <td>L1</td>\n",
       "      <td>1489.2</td>\n",
       "      <td>3</td>\n",
       "    </tr>\n",
       "    <tr>\n",
       "      <th>1</th>\n",
       "      <td>1</td>\n",
       "      <td>1/4/2016</td>\n",
       "      <td>P-010-02 B Turbo-generator station pump</td>\n",
       "      <td>1</td>\n",
       "      <td>L3</td>\n",
       "      <td>1492.8</td>\n",
       "      <td>3</td>\n",
       "    </tr>\n",
       "    <tr>\n",
       "      <th>2</th>\n",
       "      <td>2</td>\n",
       "      <td>1/18/2016</td>\n",
       "      <td>1403 Main air blower</td>\n",
       "      <td>0</td>\n",
       "      <td>L2</td>\n",
       "      <td>2998.8</td>\n",
       "      <td>3</td>\n",
       "    </tr>\n",
       "    <tr>\n",
       "      <th>3</th>\n",
       "      <td>3</td>\n",
       "      <td>1/18/2016</td>\n",
       "      <td>1901 Turb 6  Acc</td>\n",
       "      <td>0</td>\n",
       "      <td>L1</td>\n",
       "      <td>7590</td>\n",
       "      <td>3</td>\n",
       "    </tr>\n",
       "    <tr>\n",
       "      <th>4</th>\n",
       "      <td>4</td>\n",
       "      <td>3/6/2016</td>\n",
       "      <td>Air RecFan 1.12402A</td>\n",
       "      <td>1</td>\n",
       "      <td>L2</td>\n",
       "      <td>1,487</td>\n",
       "      <td>1</td>\n",
       "    </tr>\n",
       "  </tbody>\n",
       "</table>\n",
       "</div>"
      ],
      "text/plain": [
       "   Unnamed: 0 measurement_date                             machine_name  \\\n",
       "0           0         1/4/2016  P-010-02 A Turbo-generator station pump   \n",
       "1           1         1/4/2016  P-010-02 B Turbo-generator station pump   \n",
       "2           2        1/18/2016                     1403 Main air blower   \n",
       "3           3        1/18/2016                         1901 Turb 6  Acc   \n",
       "4           4         3/6/2016                      Air RecFan 1.12402A   \n",
       "\n",
       "   bearing_fault status   speed  zone_number  \n",
       "0              0     L1  1489.2            3  \n",
       "1              1     L3  1492.8            3  \n",
       "2              0     L2  2998.8            3  \n",
       "3              0     L1    7590            3  \n",
       "4              1     L2   1,487            1  "
      ]
     },
     "execution_count": 8,
     "metadata": {},
     "output_type": "execute_result"
    }
   ],
   "source": [
    "df.head()"
   ]
  },
  {
   "cell_type": "code",
   "execution_count": 9,
   "metadata": {},
   "outputs": [
    {
     "data": {
      "text/plain": [
       "Index(['Unnamed: 0', 'measurement_date', 'machine_name', 'bearing_fault',\n",
       "       'status', 'speed', 'zone_number'],\n",
       "      dtype='object')"
      ]
     },
     "execution_count": 9,
     "metadata": {},
     "output_type": "execute_result"
    }
   ],
   "source": [
    "df.columns"
   ]
  },
  {
   "cell_type": "markdown",
   "metadata": {},
   "source": [
    "* Dropping unnecessary index column"
   ]
  },
  {
   "cell_type": "code",
   "execution_count": 10,
   "metadata": {},
   "outputs": [],
   "source": [
    "df = df.drop(\"Unnamed: 0\", axis=1)"
   ]
  },
  {
   "cell_type": "markdown",
   "metadata": {},
   "source": [
    "* Calculating the means for every machine"
   ]
  },
  {
   "cell_type": "code",
   "execution_count": 11,
   "metadata": {},
   "outputs": [
    {
     "name": "stdout",
     "output_type": "stream",
     "text": [
      "All these machines don't have a single valid speed value:\n",
      "\n",
      "Maturation Tank Agitator 15MX802-1 Gearbox,Maturation Tank Agitator 15MX802-1 Motor\n",
      "Maturation Tank Agitator 15MX802-2 Gearbox,Maturation Tank Agitator 15MX802-2 Motor\n",
      "Oleum Tank Pump 1425\n",
      "P-012-02A Acid Storage Pump-A\n",
      "P-012-02B Acid Storage Pump-B\n",
      "Reactor Agitator 15MX801 Motor,Reactor Agitator 15MX801 Gearbox\n"
     ]
    }
   ],
   "source": [
    "means = {machine: 0 for machine in df[\"machine_name\"].unique()}\n",
    "print(\"All these machines don't have a single valid speed value:\\n\")\n",
    "for machine, group in df.groupby(\"machine_name\"):\n",
    "    sum = 0\n",
    "    count = 0\n",
    "    for speed in group[\"speed\"]:\n",
    "        try:\n",
    "            sum += float(speed.replace(\",\", \"\"))\n",
    "            count += 1\n",
    "        except ValueError:\n",
    "            if speed.find(\"â€¬\") > 0:\n",
    "                sum += float(speed.replace(\"â€¬\", \"\").replace(\",\", \"\"))\n",
    "                count += 1\n",
    "            continue\n",
    "    if count > 0:\n",
    "        means[machine] = sum / count\n",
    "    else:\n",
    "        print(machine)"
   ]
  },
  {
   "cell_type": "markdown",
   "metadata": {},
   "source": [
    "* Replacing (ERROR ,â€¬ ,of) values with its machine's mean"
   ]
  },
  {
   "cell_type": "code",
   "execution_count": 12,
   "metadata": {},
   "outputs": [],
   "source": [
    "df.loc[df[\"speed\"] == \"1489.2.2\", \"speed\"] = \"1489.2\"\n",
    "\n",
    "for i, row in df.iterrows():\n",
    "    try:\n",
    "        float(row[\"speed\"])\n",
    "    except ValueError:\n",
    "        if row[\"speed\"].find(\",\") or row[\"speed\"].find(\"â€¬\") > 0:\n",
    "            df.loc[i, \"speed\"] = row[\"speed\"].replace(\",\", \"\").replace(\"â€¬\", \"\")\n",
    "        if row[\"speed\"] == \"ERROR\" or row[\"speed\"] == \"of\" or row[\"speed\"] == \"â€¬\":\n",
    "            df.loc[i, \"speed\"] = means[row[\"machine_name\"]]"
   ]
  },
  {
   "cell_type": "markdown",
   "metadata": {},
   "source": [
    "* Fixing the datatype of the columns so it can be used and processed easier"
   ]
  },
  {
   "cell_type": "code",
   "execution_count": 13,
   "metadata": {},
   "outputs": [],
   "source": [
    "df[\"speed\"] = df[\"speed\"].astype(float)"
   ]
  },
  {
   "cell_type": "code",
   "execution_count": 14,
   "metadata": {},
   "outputs": [],
   "source": [
    "df[\"measurement_date\"] = pd.to_datetime(df[\"measurement_date\"], format=\"%m/%d/%Y\")"
   ]
  },
  {
   "cell_type": "code",
   "execution_count": 15,
   "metadata": {},
   "outputs": [
    {
     "name": "stdout",
     "output_type": "stream",
     "text": [
      "<class 'pandas.core.frame.DataFrame'>\n",
      "RangeIndex: 5820 entries, 0 to 5819\n",
      "Data columns (total 6 columns):\n",
      " #   Column            Non-Null Count  Dtype         \n",
      "---  ------            --------------  -----         \n",
      " 0   measurement_date  5820 non-null   datetime64[ns]\n",
      " 1   machine_name      5820 non-null   object        \n",
      " 2   bearing_fault     5820 non-null   int64         \n",
      " 3   status            5820 non-null   object        \n",
      " 4   speed             5820 non-null   float64       \n",
      " 5   zone_number       5820 non-null   int64         \n",
      "dtypes: datetime64[ns](1), float64(1), int64(2), object(2)\n",
      "memory usage: 272.9+ KB\n"
     ]
    }
   ],
   "source": [
    "df.info()"
   ]
  },
  {
   "cell_type": "code",
   "execution_count": 16,
   "metadata": {},
   "outputs": [
    {
     "data": {
      "text/html": [
       "<div>\n",
       "<style scoped>\n",
       "    .dataframe tbody tr th:only-of-type {\n",
       "        vertical-align: middle;\n",
       "    }\n",
       "\n",
       "    .dataframe tbody tr th {\n",
       "        vertical-align: top;\n",
       "    }\n",
       "\n",
       "    .dataframe thead th {\n",
       "        text-align: right;\n",
       "    }\n",
       "</style>\n",
       "<table border=\"1\" class=\"dataframe\">\n",
       "  <thead>\n",
       "    <tr style=\"text-align: right;\">\n",
       "      <th></th>\n",
       "      <th>measurement_date</th>\n",
       "      <th>machine_name</th>\n",
       "      <th>bearing_fault</th>\n",
       "      <th>status</th>\n",
       "      <th>speed</th>\n",
       "      <th>zone_number</th>\n",
       "    </tr>\n",
       "  </thead>\n",
       "  <tbody>\n",
       "    <tr>\n",
       "      <th>0</th>\n",
       "      <td>2016-01-04</td>\n",
       "      <td>P-010-02 A Turbo-generator station pump</td>\n",
       "      <td>0</td>\n",
       "      <td>L1</td>\n",
       "      <td>1489.2</td>\n",
       "      <td>3</td>\n",
       "    </tr>\n",
       "    <tr>\n",
       "      <th>1</th>\n",
       "      <td>2016-01-04</td>\n",
       "      <td>P-010-02 B Turbo-generator station pump</td>\n",
       "      <td>1</td>\n",
       "      <td>L3</td>\n",
       "      <td>1492.8</td>\n",
       "      <td>3</td>\n",
       "    </tr>\n",
       "    <tr>\n",
       "      <th>2</th>\n",
       "      <td>2016-01-18</td>\n",
       "      <td>1403 Main air blower</td>\n",
       "      <td>0</td>\n",
       "      <td>L2</td>\n",
       "      <td>2998.8</td>\n",
       "      <td>3</td>\n",
       "    </tr>\n",
       "    <tr>\n",
       "      <th>3</th>\n",
       "      <td>2016-01-18</td>\n",
       "      <td>1901 Turb 6  Acc</td>\n",
       "      <td>0</td>\n",
       "      <td>L1</td>\n",
       "      <td>7590.0</td>\n",
       "      <td>3</td>\n",
       "    </tr>\n",
       "    <tr>\n",
       "      <th>4</th>\n",
       "      <td>2016-03-06</td>\n",
       "      <td>Air RecFan 1.12402A</td>\n",
       "      <td>1</td>\n",
       "      <td>L2</td>\n",
       "      <td>1487.0</td>\n",
       "      <td>1</td>\n",
       "    </tr>\n",
       "  </tbody>\n",
       "</table>\n",
       "</div>"
      ],
      "text/plain": [
       "  measurement_date                             machine_name  bearing_fault  \\\n",
       "0       2016-01-04  P-010-02 A Turbo-generator station pump              0   \n",
       "1       2016-01-04  P-010-02 B Turbo-generator station pump              1   \n",
       "2       2016-01-18                     1403 Main air blower              0   \n",
       "3       2016-01-18                         1901 Turb 6  Acc              0   \n",
       "4       2016-03-06                      Air RecFan 1.12402A              1   \n",
       "\n",
       "  status   speed  zone_number  \n",
       "0     L1  1489.2            3  \n",
       "1     L3  1492.8            3  \n",
       "2     L2  2998.8            3  \n",
       "3     L1  7590.0            3  \n",
       "4     L2  1487.0            1  "
      ]
     },
     "execution_count": 16,
     "metadata": {},
     "output_type": "execute_result"
    }
   ],
   "source": [
    "df.head()"
   ]
  },
  {
   "cell_type": "markdown",
   "metadata": {},
   "source": [
    "* Writing the edited data to a new csv file"
   ]
  },
  {
   "cell_type": "code",
   "execution_count": 17,
   "metadata": {},
   "outputs": [],
   "source": [
    "df.to_csv(\"fixed_data.csv\", index=False)"
   ]
  }
 ],
 "metadata": {
  "kernelspec": {
   "display_name": "base",
   "language": "python",
   "name": "python3"
  },
  "language_info": {
   "codemirror_mode": {
    "name": "ipython",
    "version": 3
   },
   "file_extension": ".py",
   "mimetype": "text/x-python",
   "name": "python",
   "nbconvert_exporter": "python",
   "pygments_lexer": "ipython3",
   "version": "3.11.5"
  }
 },
 "nbformat": 4,
 "nbformat_minor": 2
}
