{
 "cells": [
  {
   "cell_type": "code",
   "execution_count": 281,
   "metadata": {},
   "outputs": [],
   "source": [
    "import pandas as pd\n",
    "import numpy as np"
   ]
  },
  {
   "cell_type": "code",
   "execution_count": 282,
   "metadata": {},
   "outputs": [],
   "source": [
    "df = pd.read_pickle(\"./data/hr.pickle\")"
   ]
  },
  {
   "cell_type": "code",
   "execution_count": 283,
   "metadata": {},
   "outputs": [
    {
     "data": {
      "text/html": [
       "<div>\n",
       "<style scoped>\n",
       "    .dataframe tbody tr th:only-of-type {\n",
       "        vertical-align: middle;\n",
       "    }\n",
       "\n",
       "    .dataframe tbody tr th {\n",
       "        vertical-align: top;\n",
       "    }\n",
       "\n",
       "    .dataframe thead th {\n",
       "        text-align: right;\n",
       "    }\n",
       "</style>\n",
       "<table border=\"1\" class=\"dataframe\">\n",
       "  <thead>\n",
       "    <tr style=\"text-align: right;\">\n",
       "      <th></th>\n",
       "      <th>ts</th>\n",
       "      <th>name</th>\n",
       "      <th>faults</th>\n",
       "    </tr>\n",
       "  </thead>\n",
       "  <tbody>\n",
       "    <tr>\n",
       "      <th>0</th>\n",
       "      <td>[[0.000167964, -5.34659e-05, 1.28447e-05, 9.03...</td>\n",
       "      <td>9.1120 C Hot Water Pump</td>\n",
       "      <td>[[BearingFault, motor], [XC, machine], [Bearin...</td>\n",
       "    </tr>\n",
       "    <tr>\n",
       "      <th>1</th>\n",
       "      <td>[[0.009780156, 0.014624815, 0.019440233, 0.020...</td>\n",
       "      <td>Air RecFan 1.12302</td>\n",
       "      <td>[[Looseness, machine], [Misalignment, machine]...</td>\n",
       "    </tr>\n",
       "    <tr>\n",
       "      <th>2</th>\n",
       "      <td>[[0.001560547, 0.001073043, -2.44838e-05, -0.0...</td>\n",
       "      <td>Air RecFan 1.12302</td>\n",
       "      <td>[[Looseness, machine], [Misalignment, machine]...</td>\n",
       "    </tr>\n",
       "    <tr>\n",
       "      <th>3</th>\n",
       "      <td>[[-0.002804407, -0.001306111, 0.001502491, 0.0...</td>\n",
       "      <td>Air RecFan 1.12402A</td>\n",
       "      <td>[[Looseness, machine], [Misalignment, machine]...</td>\n",
       "    </tr>\n",
       "    <tr>\n",
       "      <th>4</th>\n",
       "      <td>[[0.000500389, 0.00026631, -6.22153e-05, -0.00...</td>\n",
       "      <td>Vacuum Pump 5.1302</td>\n",
       "      <td>[[Misalignment, machine], [Looseness, machine]...</td>\n",
       "    </tr>\n",
       "  </tbody>\n",
       "</table>\n",
       "</div>"
      ],
      "text/plain": [
       "                                                  ts                     name  \\\n",
       "0  [[0.000167964, -5.34659e-05, 1.28447e-05, 9.03...  9.1120 C Hot Water Pump   \n",
       "1  [[0.009780156, 0.014624815, 0.019440233, 0.020...       Air RecFan 1.12302   \n",
       "2  [[0.001560547, 0.001073043, -2.44838e-05, -0.0...       Air RecFan 1.12302   \n",
       "3  [[-0.002804407, -0.001306111, 0.001502491, 0.0...      Air RecFan 1.12402A   \n",
       "4  [[0.000500389, 0.00026631, -6.22153e-05, -0.00...       Vacuum Pump 5.1302   \n",
       "\n",
       "                                              faults  \n",
       "0  [[BearingFault, motor], [XC, machine], [Bearin...  \n",
       "1  [[Looseness, machine], [Misalignment, machine]...  \n",
       "2  [[Looseness, machine], [Misalignment, machine]...  \n",
       "3  [[Looseness, machine], [Misalignment, machine]...  \n",
       "4  [[Misalignment, machine], [Looseness, machine]...  "
      ]
     },
     "execution_count": 283,
     "metadata": {},
     "output_type": "execute_result"
    }
   ],
   "source": [
    "df.head()"
   ]
  },
  {
   "cell_type": "code",
   "execution_count": 284,
   "metadata": {},
   "outputs": [],
   "source": [
    "# 1"
   ]
  },
  {
   "cell_type": "code",
   "execution_count": 285,
   "metadata": {},
   "outputs": [
    {
     "name": "stdout",
     "output_type": "stream",
     "text": [
      "1  has NaN values\n",
      "2  has NaN values\n",
      "3  has NaN values\n",
      "4  has NaN values\n",
      "5  has NaN values\n",
      "6  has NaN values\n",
      "7  has NaN values\n",
      "8  has NaN values\n",
      "9  has NaN values\n",
      "10  has NaN values\n",
      "11  has NaN values\n",
      "12  has NaN values\n",
      "13  has NaN values\n",
      "14  has NaN values\n",
      "15  has NaN values\n",
      "16  has NaN values\n",
      "17  has NaN values\n",
      "18  has NaN values\n",
      "19  has NaN values\n",
      "20  has NaN values\n",
      "21  has NaN values\n",
      "22  has NaN values\n",
      "26  has NaN values\n",
      "28  has NaN values\n",
      "29  has NaN values\n",
      "30  has NaN values\n",
      "34  has NaN values\n",
      "35  has NaN values\n",
      "36  has NaN values\n",
      "37  has NaN values\n",
      "39  has NaN values\n",
      "40  has NaN values\n",
      "41  has NaN values\n",
      "44  has NaN values\n",
      "46  has NaN values\n",
      "47  has NaN values\n",
      "48  has NaN values\n",
      "53  has NaN values\n",
      "54  has NaN values\n",
      "55  has NaN values\n",
      "59  has NaN values\n",
      "60  has NaN values\n",
      "61  has NaN values\n",
      "62  has NaN values\n",
      "63  has NaN values\n",
      "64  has NaN values\n",
      "76  has NaN values\n",
      "83  has NaN values\n"
     ]
    }
   ],
   "source": [
    "# check if there is any NaN values in the df\n",
    "for i, ts in enumerate(df[\"ts\"]):\n",
    "    if np.isnan(ts).any():\n",
    "        print(i, \" has NaN values\")"
   ]
  },
  {
   "cell_type": "code",
   "execution_count": 286,
   "metadata": {},
   "outputs": [
    {
     "data": {
      "text/plain": [
       "(12, 4096)"
      ]
     },
     "execution_count": 286,
     "metadata": {},
     "output_type": "execute_result"
    }
   ],
   "source": [
    "# shape before purging NaN values\n",
    "np.shape(df[\"ts\"][1])"
   ]
  },
  {
   "cell_type": "code",
   "execution_count": 287,
   "metadata": {},
   "outputs": [],
   "source": [
    "def ts_without_NaN(ts):\n",
    "    new_ts = []\n",
    "    for value in ts:\n",
    "        if not np.isnan(value):\n",
    "            new_ts.append(value)\n",
    "    return new_ts"
   ]
  },
  {
   "cell_type": "code",
   "execution_count": 288,
   "metadata": {},
   "outputs": [],
   "source": [
    "df[\"ts\"] = df[\"ts\"].apply(lambda x: [ts_without_NaN(ts) for ts in x])"
   ]
  },
  {
   "cell_type": "code",
   "execution_count": 289,
   "metadata": {},
   "outputs": [],
   "source": [
    "# check if there is any NaN values in the df\n",
    "for i, ts in enumerate(df[\"ts\"]):\n",
    "    if np.isnan(ts).any():\n",
    "        print(i, \" has NaN values\")"
   ]
  },
  {
   "cell_type": "code",
   "execution_count": 290,
   "metadata": {},
   "outputs": [],
   "source": [
    "# 2"
   ]
  },
  {
   "cell_type": "code",
   "execution_count": 291,
   "metadata": {},
   "outputs": [
    {
     "data": {
      "text/plain": [
       "(12, 2048)"
      ]
     },
     "execution_count": 291,
     "metadata": {},
     "output_type": "execute_result"
    }
   ],
   "source": [
    "#  its shape after\n",
    "np.shape(df[\"ts\"][1])"
   ]
  },
  {
   "cell_type": "code",
   "execution_count": 292,
   "metadata": {},
   "outputs": [],
   "source": [
    "# 3"
   ]
  },
  {
   "cell_type": "code",
   "execution_count": 293,
   "metadata": {},
   "outputs": [],
   "source": [
    "df[\"shape\"] = df[\"ts\"].apply(lambda x: np.shape(x))"
   ]
  },
  {
   "cell_type": "code",
   "execution_count": 294,
   "metadata": {},
   "outputs": [],
   "source": [
    "# 4"
   ]
  },
  {
   "cell_type": "code",
   "execution_count": 295,
   "metadata": {},
   "outputs": [],
   "source": [
    "def new_df_of_shape(length):\n",
    "    return df[df[\"shape\"] == (12, length)]"
   ]
  },
  {
   "cell_type": "code",
   "execution_count": 296,
   "metadata": {},
   "outputs": [],
   "source": [
    "new = new_df_of_shape(2048)"
   ]
  },
  {
   "cell_type": "code",
   "execution_count": 297,
   "metadata": {},
   "outputs": [
    {
     "data": {
      "text/html": [
       "<div>\n",
       "<style scoped>\n",
       "    .dataframe tbody tr th:only-of-type {\n",
       "        vertical-align: middle;\n",
       "    }\n",
       "\n",
       "    .dataframe tbody tr th {\n",
       "        vertical-align: top;\n",
       "    }\n",
       "\n",
       "    .dataframe thead th {\n",
       "        text-align: right;\n",
       "    }\n",
       "</style>\n",
       "<table border=\"1\" class=\"dataframe\">\n",
       "  <thead>\n",
       "    <tr style=\"text-align: right;\">\n",
       "      <th></th>\n",
       "      <th>ts</th>\n",
       "      <th>name</th>\n",
       "      <th>faults</th>\n",
       "      <th>shape</th>\n",
       "    </tr>\n",
       "  </thead>\n",
       "  <tbody>\n",
       "    <tr>\n",
       "      <th>1</th>\n",
       "      <td>[[0.009780156, 0.014624815, 0.019440233, 0.020...</td>\n",
       "      <td>Air RecFan 1.12302</td>\n",
       "      <td>[[Looseness, machine], [Misalignment, machine]...</td>\n",
       "      <td>(12, 2048)</td>\n",
       "    </tr>\n",
       "    <tr>\n",
       "      <th>2</th>\n",
       "      <td>[[0.001560547, 0.001073043, -2.44838e-05, -0.0...</td>\n",
       "      <td>Air RecFan 1.12302</td>\n",
       "      <td>[[Looseness, machine], [Misalignment, machine]...</td>\n",
       "      <td>(12, 2048)</td>\n",
       "    </tr>\n",
       "    <tr>\n",
       "      <th>3</th>\n",
       "      <td>[[-0.002804407, -0.001306111, 0.001502491, 0.0...</td>\n",
       "      <td>Air RecFan 1.12402A</td>\n",
       "      <td>[[Looseness, machine], [Misalignment, machine]...</td>\n",
       "      <td>(12, 2048)</td>\n",
       "    </tr>\n",
       "    <tr>\n",
       "      <th>4</th>\n",
       "      <td>[[0.000500389, 0.00026631, -6.22153e-05, -0.00...</td>\n",
       "      <td>Vacuum Pump 5.1302</td>\n",
       "      <td>[[Misalignment, machine], [Looseness, machine]...</td>\n",
       "      <td>(12, 2048)</td>\n",
       "    </tr>\n",
       "    <tr>\n",
       "      <th>5</th>\n",
       "      <td>[[-0.005351429, -0.004372852, -0.003231866, -0...</td>\n",
       "      <td>Main Fan B(F-005B)</td>\n",
       "      <td>[[Misalignment, machine], [Looseness, machine]...</td>\n",
       "      <td>(12, 2048)</td>\n",
       "    </tr>\n",
       "  </tbody>\n",
       "</table>\n",
       "</div>"
      ],
      "text/plain": [
       "                                                  ts                 name  \\\n",
       "1  [[0.009780156, 0.014624815, 0.019440233, 0.020...   Air RecFan 1.12302   \n",
       "2  [[0.001560547, 0.001073043, -2.44838e-05, -0.0...   Air RecFan 1.12302   \n",
       "3  [[-0.002804407, -0.001306111, 0.001502491, 0.0...  Air RecFan 1.12402A   \n",
       "4  [[0.000500389, 0.00026631, -6.22153e-05, -0.00...   Vacuum Pump 5.1302   \n",
       "5  [[-0.005351429, -0.004372852, -0.003231866, -0...   Main Fan B(F-005B)   \n",
       "\n",
       "                                              faults       shape  \n",
       "1  [[Looseness, machine], [Misalignment, machine]...  (12, 2048)  \n",
       "2  [[Looseness, machine], [Misalignment, machine]...  (12, 2048)  \n",
       "3  [[Looseness, machine], [Misalignment, machine]...  (12, 2048)  \n",
       "4  [[Misalignment, machine], [Looseness, machine]...  (12, 2048)  \n",
       "5  [[Misalignment, machine], [Looseness, machine]...  (12, 2048)  "
      ]
     },
     "execution_count": 297,
     "metadata": {},
     "output_type": "execute_result"
    }
   ],
   "source": [
    "new.head()"
   ]
  },
  {
   "cell_type": "code",
   "execution_count": 298,
   "metadata": {},
   "outputs": [],
   "source": [
    "# 5"
   ]
  },
  {
   "cell_type": "code",
   "execution_count": 299,
   "metadata": {},
   "outputs": [
    {
     "data": {
      "text/html": [
       "<div>\n",
       "<style scoped>\n",
       "    .dataframe tbody tr th:only-of-type {\n",
       "        vertical-align: middle;\n",
       "    }\n",
       "\n",
       "    .dataframe tbody tr th {\n",
       "        vertical-align: top;\n",
       "    }\n",
       "\n",
       "    .dataframe thead th {\n",
       "        text-align: right;\n",
       "    }\n",
       "</style>\n",
       "<table border=\"1\" class=\"dataframe\">\n",
       "  <thead>\n",
       "    <tr style=\"text-align: right;\">\n",
       "      <th></th>\n",
       "      <th>faults</th>\n",
       "      <th>count</th>\n",
       "    </tr>\n",
       "  </thead>\n",
       "  <tbody>\n",
       "    <tr>\n",
       "      <th>0</th>\n",
       "      <td>[Misalignment, machine]</td>\n",
       "      <td>222</td>\n",
       "    </tr>\n",
       "    <tr>\n",
       "      <th>1</th>\n",
       "      <td>[Flow, machine]</td>\n",
       "      <td>90</td>\n",
       "    </tr>\n",
       "    <tr>\n",
       "      <th>2</th>\n",
       "      <td>[BearingFault, machine]</td>\n",
       "      <td>72</td>\n",
       "    </tr>\n",
       "    <tr>\n",
       "      <th>3</th>\n",
       "      <td>[BearingFault, motor]</td>\n",
       "      <td>68</td>\n",
       "    </tr>\n",
       "    <tr>\n",
       "      <th>4</th>\n",
       "      <td>[LXC, machine]</td>\n",
       "      <td>56</td>\n",
       "    </tr>\n",
       "  </tbody>\n",
       "</table>\n",
       "</div>"
      ],
      "text/plain": [
       "                    faults  count\n",
       "0  [Misalignment, machine]    222\n",
       "1          [Flow, machine]     90\n",
       "2  [BearingFault, machine]     72\n",
       "3    [BearingFault, motor]     68\n",
       "4           [LXC, machine]     56"
      ]
     },
     "execution_count": 299,
     "metadata": {},
     "output_type": "execute_result"
    }
   ],
   "source": [
    "faults_count = df[\"faults\"].explode().value_counts().reset_index()\n",
    "faults_count.head()"
   ]
  },
  {
   "cell_type": "code",
   "execution_count": 300,
   "metadata": {},
   "outputs": [],
   "source": [
    "def fault_info(fault):\n",
    "    indices = [\n",
    "        v[0]\n",
    "        for i, v in enumerate(faults_count.iterrows())\n",
    "        if fault in faults_count[\"faults\"][i]\n",
    "    ]\n",
    "    if faults_count.iloc[indices[1]].iloc[0][1] == \"motor\":\n",
    "        motor_count = faults_count.iloc[indices[1]].iloc[1]\n",
    "        machine_count = faults_count.iloc[indices[0]].iloc[1]\n",
    "    else:\n",
    "        motor_count = faults_count.iloc[indices[0]].iloc[1]\n",
    "        machine_count = faults_count.iloc[indices[1]].iloc[1]\n",
    "    dict = {\n",
    "        \"Fault name\": [fault],\n",
    "        \"Total count\": [motor_count + machine_count],\n",
    "        \"Total count in motor\": [motor_count],\n",
    "        \"Total count in machine\": [machine_count],\n",
    "    }\n",
    "    df = pd.DataFrame(dict)\n",
    "    display(df)"
   ]
  },
  {
   "cell_type": "code",
   "execution_count": 301,
   "metadata": {},
   "outputs": [
    {
     "data": {
      "text/html": [
       "<div>\n",
       "<style scoped>\n",
       "    .dataframe tbody tr th:only-of-type {\n",
       "        vertical-align: middle;\n",
       "    }\n",
       "\n",
       "    .dataframe tbody tr th {\n",
       "        vertical-align: top;\n",
       "    }\n",
       "\n",
       "    .dataframe thead th {\n",
       "        text-align: right;\n",
       "    }\n",
       "</style>\n",
       "<table border=\"1\" class=\"dataframe\">\n",
       "  <thead>\n",
       "    <tr style=\"text-align: right;\">\n",
       "      <th></th>\n",
       "      <th>Fault name</th>\n",
       "      <th>Total count</th>\n",
       "      <th>Total count in motor</th>\n",
       "      <th>Total count in machine</th>\n",
       "    </tr>\n",
       "  </thead>\n",
       "  <tbody>\n",
       "    <tr>\n",
       "      <th>0</th>\n",
       "      <td>LXC</td>\n",
       "      <td>68</td>\n",
       "      <td>12</td>\n",
       "      <td>56</td>\n",
       "    </tr>\n",
       "  </tbody>\n",
       "</table>\n",
       "</div>"
      ],
      "text/plain": [
       "  Fault name  Total count  Total count in motor  Total count in machine\n",
       "0        LXC           68                    12                      56"
      ]
     },
     "metadata": {},
     "output_type": "display_data"
    }
   ],
   "source": [
    "fault_info(\"LXC\")"
   ]
  }
 ],
 "metadata": {
  "kernelspec": {
   "display_name": "Python 3",
   "language": "python",
   "name": "python3"
  },
  "language_info": {
   "codemirror_mode": {
    "name": "ipython",
    "version": 3
   },
   "file_extension": ".py",
   "mimetype": "text/x-python",
   "name": "python",
   "nbconvert_exporter": "python",
   "pygments_lexer": "ipython3",
   "version": "3.11.5"
  }
 },
 "nbformat": 4,
 "nbformat_minor": 2
}
