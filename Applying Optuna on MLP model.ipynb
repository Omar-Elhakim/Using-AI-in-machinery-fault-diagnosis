{
 "cells": [
  {
   "cell_type": "code",
   "execution_count": 30,
   "metadata": {
    "execution": {
     "iopub.execute_input": "2024-04-18T03:10:37.298180Z",
     "iopub.status.busy": "2024-04-18T03:10:37.297301Z",
     "iopub.status.idle": "2024-04-18T03:10:49.843414Z",
     "shell.execute_reply": "2024-04-18T03:10:49.842095Z",
     "shell.execute_reply.started": "2024-04-18T03:10:37.298146Z"
    },
    "trusted": true
   },
   "outputs": [],
   "source": [
    "!pip install tsai optuna  optuna-integration -q"
   ]
  },
  {
   "cell_type": "code",
   "execution_count": 56,
   "metadata": {
    "execution": {
     "iopub.execute_input": "2024-04-18T03:36:58.363780Z",
     "iopub.status.busy": "2024-04-18T03:36:58.363363Z",
     "iopub.status.idle": "2024-04-18T03:36:58.369958Z",
     "shell.execute_reply": "2024-04-18T03:36:58.369068Z",
     "shell.execute_reply.started": "2024-04-18T03:36:58.363740Z"
    },
    "trusted": true
   },
   "outputs": [],
   "source": [
    "import pandas as pd\n",
    "import numpy as np\n",
    "import matplotlib.pyplot as plt\n",
    "import notebookcfa27bdb31 as ArrayGenerator\n",
    "from tsai.all import *\n",
    "from fastai.callback.all import *\n",
    "import optuna\n",
    "from optuna.visualization import plot_optimization_history, plot_param_importances\n",
    "import random"
   ]
  },
  {
   "cell_type": "markdown",
   "metadata": {},
   "source": [
    "* To get consistent results"
   ]
  },
  {
   "cell_type": "code",
   "execution_count": 62,
   "metadata": {
    "execution": {
     "iopub.execute_input": "2024-04-18T03:39:56.143248Z",
     "iopub.status.busy": "2024-04-18T03:39:56.142544Z",
     "iopub.status.idle": "2024-04-18T03:39:56.147661Z",
     "shell.execute_reply": "2024-04-18T03:39:56.146785Z",
     "shell.execute_reply.started": "2024-04-18T03:39:56.143215Z"
    },
    "trusted": true
   },
   "outputs": [],
   "source": [
    "torch.manual_seed(37)  # tsai is built on it so this should work..... I think?\n",
    "random.seed(37)\n",
    "np.random.seed(37)"
   ]
  },
  {
   "cell_type": "code",
   "execution_count": 32,
   "metadata": {
    "execution": {
     "iopub.execute_input": "2024-04-18T03:10:49.854965Z",
     "iopub.status.busy": "2024-04-18T03:10:49.854664Z",
     "iopub.status.idle": "2024-04-18T03:10:50.137141Z",
     "shell.execute_reply": "2024-04-18T03:10:50.136153Z",
     "shell.execute_reply.started": "2024-04-18T03:10:49.854942Z"
    },
    "trusted": true
   },
   "outputs": [],
   "source": [
    "df = pd.read_pickle(\n",
    "    \"/kaggle/input/vhr-graduation-project-all/vhr_graduation_project_all.pickle\"\n",
    ")"
   ]
  },
  {
   "cell_type": "code",
   "execution_count": 33,
   "metadata": {
    "execution": {
     "iopub.execute_input": "2024-04-18T03:10:50.139669Z",
     "iopub.status.busy": "2024-04-18T03:10:50.139373Z",
     "iopub.status.idle": "2024-04-18T03:10:50.242567Z",
     "shell.execute_reply": "2024-04-18T03:10:50.241584Z",
     "shell.execute_reply.started": "2024-04-18T03:10:50.139644Z"
    },
    "trusted": true
   },
   "outputs": [],
   "source": [
    "X = np.array(df[\"ts\"].to_list())\n",
    "y = np.array(df[\"standardized_faults\"])"
   ]
  },
  {
   "cell_type": "code",
   "execution_count": 34,
   "metadata": {
    "execution": {
     "iopub.execute_input": "2024-04-18T03:10:50.244048Z",
     "iopub.status.busy": "2024-04-18T03:10:50.243754Z",
     "iopub.status.idle": "2024-04-18T03:10:50.249666Z",
     "shell.execute_reply": "2024-04-18T03:10:50.248852Z",
     "shell.execute_reply.started": "2024-04-18T03:10:50.244023Z"
    },
    "trusted": true
   },
   "outputs": [
    {
     "name": "stdout",
     "output_type": "stream",
     "text": [
      "{'Faults classified': 'LXC, XC, Looseness', 'Channels taken': 'All', 'Labels array': 'Binary'}\n"
     ]
    }
   ],
   "source": [
    "# changed split method to split by bearing\n",
    "raw_X, raw_y = ArrayGenerator.generate_dataset_array(\n",
    "    dataset_category=4, ts=X, labels=y, split_method=\"bearing\"\n",
    ")"
   ]
  },
  {
   "cell_type": "code",
   "execution_count": 35,
   "metadata": {
    "execution": {
     "iopub.execute_input": "2024-04-18T03:10:50.251027Z",
     "iopub.status.busy": "2024-04-18T03:10:50.250801Z",
     "iopub.status.idle": "2024-04-18T03:10:50.261260Z",
     "shell.execute_reply": "2024-04-18T03:10:50.260445Z",
     "shell.execute_reply.started": "2024-04-18T03:10:50.251008Z"
    },
    "trusted": true
   },
   "outputs": [],
   "source": [
    "def ts_without_NaN(ts):\n",
    "    new_ts = []\n",
    "    for value in ts:\n",
    "        if not np.isnan(value):\n",
    "            new_ts.append(value)\n",
    "    return new_ts"
   ]
  },
  {
   "cell_type": "code",
   "execution_count": 36,
   "metadata": {
    "execution": {
     "iopub.execute_input": "2024-04-18T03:10:50.263125Z",
     "iopub.status.busy": "2024-04-18T03:10:50.262578Z",
     "iopub.status.idle": "2024-04-18T03:10:50.274731Z",
     "shell.execute_reply": "2024-04-18T03:10:50.274007Z",
     "shell.execute_reply.started": "2024-04-18T03:10:50.263092Z"
    },
    "trusted": true
   },
   "outputs": [],
   "source": [
    "# Padding function\n",
    "def pad(array_3d):\n",
    "    max_length = max(len(sub_arr) for arr in array_3d for sub_arr in arr)\n",
    "    padded_array_3d = [\n",
    "        [\n",
    "            np.pad(sub_arr, (0, max_length - len(sub_arr)), mode=\"constant\")\n",
    "            for sub_arr in arr\n",
    "        ]\n",
    "        for arr in array_3d\n",
    "    ]\n",
    "    return np.array(padded_array_3d)"
   ]
  },
  {
   "cell_type": "code",
   "execution_count": 37,
   "metadata": {
    "execution": {
     "iopub.execute_input": "2024-04-18T03:10:50.275874Z",
     "iopub.status.busy": "2024-04-18T03:10:50.275632Z",
     "iopub.status.idle": "2024-04-18T03:10:50.646340Z",
     "shell.execute_reply": "2024-04-18T03:10:50.645516Z",
     "shell.execute_reply.started": "2024-04-18T03:10:50.275854Z"
    },
    "trusted": true
   },
   "outputs": [],
   "source": [
    "# Purging NaN values from our data to get its FFT\n",
    "x_nonan = []\n",
    "for bearing in raw_X:\n",
    "    x_nonan.append(bearing[:, ~np.any(np.isnan(bearing), axis=0)])"
   ]
  },
  {
   "cell_type": "markdown",
   "metadata": {},
   "source": [
    "* for training on raw timeseries without windowing"
   ]
  },
  {
   "cell_type": "code",
   "execution_count": 38,
   "metadata": {
    "execution": {
     "iopub.execute_input": "2024-04-18T03:10:50.647686Z",
     "iopub.status.busy": "2024-04-18T03:10:50.647416Z",
     "iopub.status.idle": "2024-04-18T03:10:51.004903Z",
     "shell.execute_reply": "2024-04-18T03:10:51.004106Z",
     "shell.execute_reply.started": "2024-04-18T03:10:50.647663Z"
    },
    "trusted": true
   },
   "outputs": [],
   "source": [
    "x_nonan_padded = pad(x_nonan)"
   ]
  },
  {
   "cell_type": "code",
   "execution_count": 39,
   "metadata": {
    "execution": {
     "iopub.execute_input": "2024-04-18T03:10:51.008166Z",
     "iopub.status.busy": "2024-04-18T03:10:51.007890Z",
     "iopub.status.idle": "2024-04-18T03:10:51.012902Z",
     "shell.execute_reply": "2024-04-18T03:10:51.012049Z",
     "shell.execute_reply.started": "2024-04-18T03:10:51.008142Z"
    },
    "trusted": true
   },
   "outputs": [],
   "source": [
    "#  applying earlystopping to get the best results and to prevent overfitting\n",
    "callbacks = [\n",
    "    PredictionDynamics(),\n",
    "    EarlyStoppingCallback(monitor=\"f1_score\", comp=np.greater, patience=3),\n",
    "]"
   ]
  },
  {
   "cell_type": "code",
   "execution_count": 40,
   "metadata": {
    "execution": {
     "iopub.execute_input": "2024-04-18T03:10:51.014306Z",
     "iopub.status.busy": "2024-04-18T03:10:51.014027Z",
     "iopub.status.idle": "2024-04-18T03:10:51.026723Z",
     "shell.execute_reply": "2024-04-18T03:10:51.025935Z",
     "shell.execute_reply.started": "2024-04-18T03:10:51.014272Z"
    },
    "trusted": true
   },
   "outputs": [],
   "source": [
    "tfms = [None, [TSStandardize(by_var=False), Categorize()]]\n",
    "batch_tfms = [TSStandardize(by_var=False)]"
   ]
  },
  {
   "cell_type": "code",
   "execution_count": 41,
   "metadata": {
    "execution": {
     "iopub.execute_input": "2024-04-18T03:10:51.027888Z",
     "iopub.status.busy": "2024-04-18T03:10:51.027640Z",
     "iopub.status.idle": "2024-04-18T03:10:51.113135Z",
     "shell.execute_reply": "2024-04-18T03:10:51.112159Z",
     "shell.execute_reply.started": "2024-04-18T03:10:51.027866Z"
    },
    "trusted": true
   },
   "outputs": [],
   "source": [
    "report_splits = get_splits(raw_y, valid_size=0.2, shuffle=True, show_plot=False)\n",
    "X_train1, y_train1 = raw_X[report_splits[0]], raw_y[report_splits[0]]\n",
    "X_test1, y_test1 = raw_X[report_splits[1]], raw_y[report_splits[1]]"
   ]
  },
  {
   "cell_type": "code",
   "execution_count": 42,
   "metadata": {
    "execution": {
     "iopub.execute_input": "2024-04-18T03:10:51.114696Z",
     "iopub.status.busy": "2024-04-18T03:10:51.114416Z",
     "iopub.status.idle": "2024-04-18T03:10:51.132484Z",
     "shell.execute_reply": "2024-04-18T03:10:51.131677Z",
     "shell.execute_reply.started": "2024-04-18T03:10:51.114671Z"
    },
    "trusted": true
   },
   "outputs": [],
   "source": [
    "def objective(trial):\n",
    "    bs = trial.suggest_int(\"bs\", 16, 128)  # suggest batch size\n",
    "    apply_sliding_window = trial.suggest_categorical(\n",
    "        \"apply_sliding_window\", [0, 1]\n",
    "    )  # suggest whether to apply sliding window or not\n",
    "    no_of_layers = trial.suggest_int(\"no_of_layers\", 1, 2)  # suggest number of layers\n",
    "    layers = []\n",
    "    dropouts = []\n",
    "    for i in range(no_of_layers):  # loop over every layer\n",
    "        layers.append(\n",
    "            trial.suggest_int(\"no_of_neurons_l{}\".format(i), 8, 64)\n",
    "        )  # suggest each layer size\n",
    "        dropouts.append(\n",
    "            trial.suggest_float(\"dropout_l{}\".format(i), 0.0, 0.6)\n",
    "        )  # suggest dropout rate\n",
    "\n",
    "    lr = trial.suggest_float(\"lr\", 1e-5, 1e-1)  # suggest learning rate\n",
    "\n",
    "    if apply_sliding_window:\n",
    "        overlap_pct = trial.suggest_float(\n",
    "            \"overlap_pct\", 0.0, 1.0\n",
    "        )  # suggest overlap pct\n",
    "        with_fft = trial.suggest_categorical(\n",
    "            \"with_fft\", [0, 1]\n",
    "        )  # suggest whether to apply FFT or not\n",
    "\n",
    "        if overlap_pct > 0.5:  # to avoid an error in ArrayGenerator\n",
    "\n",
    "            window_size1 = trial.suggest_categorical(\n",
    "                \"window_size1\", [2048, 4096]\n",
    "            )  # suggest window size # to avoid CategoricalDistribution does not support dynamic value space error\n",
    "            X_train, y_train = ArrayGenerator.apply_sliding_window(\n",
    "                X_train1,\n",
    "                y_train1,\n",
    "                window_size=window_size1,\n",
    "                with_fft=with_fft,\n",
    "                overlap_pct=overlap_pct,\n",
    "            )\n",
    "            X_test, y_test = ArrayGenerator.apply_sliding_window(\n",
    "                X_test1,\n",
    "                y_test1,\n",
    "                window_size=window_size1,\n",
    "                with_fft=with_fft,\n",
    "                overlap_pct=0,\n",
    "            )\n",
    "\n",
    "        elif overlap_pct > 0.25:\n",
    "            window_size2 = trial.suggest_categorical(\n",
    "                \"window_size2\", [2048, 4096, 8192]\n",
    "            )  # suggest window size\n",
    "            X_train, y_train = ArrayGenerator.apply_sliding_window(\n",
    "                X_train1,\n",
    "                y_train1,\n",
    "                window_size=window_size2,\n",
    "                with_fft=with_fft,\n",
    "                overlap_pct=overlap_pct,\n",
    "            )\n",
    "            X_test, y_test = ArrayGenerator.apply_sliding_window(\n",
    "                X_test1,\n",
    "                y_test1,\n",
    "                window_size=window_size2,\n",
    "                with_fft=with_fft,\n",
    "                overlap_pct=0,\n",
    "            )\n",
    "        else:\n",
    "            window_size3 = trial.suggest_categorical(\n",
    "                \"window_size3\", [2048, 4096, 8192, 16384]\n",
    "            )  # suggest window size\n",
    "            X_train, y_train = ArrayGenerator.apply_sliding_window(\n",
    "                X_train1,\n",
    "                y_train1,\n",
    "                window_size=window_size3,\n",
    "                with_fft=with_fft,\n",
    "                overlap_pct=overlap_pct,\n",
    "            )\n",
    "            X_test, y_test = ArrayGenerator.apply_sliding_window(\n",
    "                X_test1,\n",
    "                y_test1,\n",
    "                window_size=window_size3,\n",
    "                with_fft=with_fft,\n",
    "                overlap_pct=0,\n",
    "            )\n",
    "        train_balance_splits = get_splits(\n",
    "            y_train,\n",
    "            valid_size=0,\n",
    "            balance=True,\n",
    "            strategy=\"oversample\",\n",
    "            shuffle=True,\n",
    "            show_plot=False,\n",
    "        )\n",
    "        X_train, y_train = (\n",
    "            X_train[train_balance_splits[0]],\n",
    "            y_train[train_balance_splits[0]],\n",
    "        )\n",
    "        X, y, splits = combine_split_data([X_train, X_test], [y_train, y_test])\n",
    "        dls = get_ts_dls(\n",
    "            X,\n",
    "            y,\n",
    "            splits=splits,\n",
    "            tfms=tfms,\n",
    "            shuffle_train=True,\n",
    "            batch_tfms=batch_tfms,\n",
    "            bs=[bs, 256],\n",
    "        )\n",
    "        seq_len = X_train.shape[-1]\n",
    "    else:\n",
    "        dls = get_ts_dls(\n",
    "            x_nonan_padded,\n",
    "            raw_y,\n",
    "            splits=report_splits,\n",
    "            tfms=tfms,\n",
    "            shuffle_train=True,\n",
    "            batch_tfms=batch_tfms,\n",
    "            bs=[bs, 256],\n",
    "        )\n",
    "        seq_len = 16384\n",
    "    model = MLP(\n",
    "        dls.vars, dls.c, seq_len=seq_len, layers=layers, ps=dropouts, use_bn=True\n",
    "    )\n",
    "    learn = Learner(\n",
    "        dls,\n",
    "        model,\n",
    "        lr=lr,\n",
    "        metrics=[accuracy, Precision(), Recall(), F1Score(), BalancedAccuracy()],\n",
    "    )\n",
    "\n",
    "    with learn.no_logging(), learn.no_bar():\n",
    "        learn.fit_one_cycle(15, cbs=callbacks)\n",
    "\n",
    "    return learn.validate()[-2]  # return F1 score"
   ]
  },
  {
   "cell_type": "markdown",
   "metadata": {},
   "source": [
    "# optimizing "
   ]
  },
  {
   "cell_type": "code",
   "execution_count": 1,
   "metadata": {
    "execution": {
     "iopub.execute_input": "2024-04-18T03:10:51.133888Z",
     "iopub.status.busy": "2024-04-18T03:10:51.133633Z",
     "iopub.status.idle": "2024-04-18T03:26:29.079743Z",
     "shell.execute_reply": "2024-04-18T03:26:29.078780Z",
     "shell.execute_reply.started": "2024-04-18T03:10:51.133866Z"
    },
    "trusted": true
   },
   "outputs": [
    {
     "name": "stdout",
     "output_type": "stream",
     "text": [
      "Study optimized\n"
     ]
    }
   ],
   "source": [
    "study = optuna.create_study(direction=\"maximize\")\n",
    "study.optimize(objective, n_trials=100, timeout=2400)\n",
    "print('Study optimized')"
   ]
  },
  {
   "cell_type": "markdown",
   "metadata": {},
   "source": [
    "# Results"
   ]
  },
  {
   "cell_type": "code",
   "execution_count": 55,
   "metadata": {
    "execution": {
     "iopub.execute_input": "2024-04-18T03:34:08.113696Z",
     "iopub.status.busy": "2024-04-18T03:34:08.112797Z",
     "iopub.status.idle": "2024-04-18T03:34:09.695004Z",
     "shell.execute_reply": "2024-04-18T03:34:09.693748Z",
     "shell.execute_reply.started": "2024-04-18T03:34:08.113660Z"
    },
    "trusted": true
   },
   "outputs": [
    {
     "name": "stdout",
     "output_type": "stream",
     "text": [
      "Study statistics: \n",
      "  Number of finished trials:  100\n",
      "Best trial:\n",
      "  Value:  0.825\n",
      "  Params: \n",
      "    bs: 112\n",
      "    apply_sliding_window: 1\n",
      "    no_of_layers: 2\n",
      "    no_of_neurons_l0: 25\n",
      "    dropout_l0: 0.5534276339765585\n",
      "    no_of_neurons_l1: 25\n",
      "    dropout_l1: 0.2329294839045852\n",
      "    lr: 0.008454377697753273\n",
      "    overlap_pct: 0.1408325971604751\n",
      "    with_fft: 1\n",
      "    window_size3: 8192\n"
     ]
    },
    {
     "data": {
      "text/plain": [
       "{'bs': 0.3427436720866629,\n",
       " 'apply_sliding_window': 0.20832075211837484,\n",
       " 'lr': 0.14928279112492035,\n",
       " 'no_of_layers': 0.13435134955467185,\n",
       " 'dropout_l0': 0.10116692326094348,\n",
       " 'no_of_neurons_l0': 0.06413451185442656}"
      ]
     },
     "execution_count": 55,
     "metadata": {},
     "output_type": "execute_result"
    }
   ],
   "source": [
    "print(\"Study statistics: \")\n",
    "print(\"  Number of finished trials: \", len(study.trials))\n",
    "print(\"Best trial:\")\n",
    "trial = study.best_trial\n",
    "\n",
    "print(\"  Value: \", trial.value)\n",
    "\n",
    "print(\"  Params: \")\n",
    "for key, value in trial.params.items():\n",
    "    print(\"    {}: {}\".format(key, value))\n",
    "\n",
    "optuna.importance.get_param_importances(study)"
   ]
  },
  {
   "cell_type": "code",
   "execution_count": 45,
   "metadata": {
    "execution": {
     "iopub.execute_input": "2024-04-18T03:26:30.653366Z",
     "iopub.status.busy": "2024-04-18T03:26:30.652716Z",
     "iopub.status.idle": "2024-04-18T03:26:30.697733Z",
     "shell.execute_reply": "2024-04-18T03:26:30.696575Z",
     "shell.execute_reply.started": "2024-04-18T03:26:30.653329Z"
    },
    "trusted": true
   },
   "outputs": [
    {
     "data": {
      "text/html": [
       "<div>                            <div id=\"73dd17a6-e5a5-4a14-8830-5f30ab2c1305\" class=\"plotly-graph-div\" style=\"height:525px; width:100%;\"></div>            <script type=\"text/javascript\">                require([\"plotly\"], function(Plotly) {                    window.PLOTLYENV=window.PLOTLYENV || {};                                    if (document.getElementById(\"73dd17a6-e5a5-4a14-8830-5f30ab2c1305\")) {                    Plotly.newPlot(                        \"73dd17a6-e5a5-4a14-8830-5f30ab2c1305\",                        [{\"mode\":\"markers\",\"name\":\"Objective Value\",\"x\":[0,1,2,3,4,5,6,7,8,9,10,11,12,13,14,15,16,17,18,19,20,21,22,23,24,25,26,27,28,29,30,31,32,33,34,35,36,37,38,39,40,41,42,43,44,45,46,47,48,49,50,51,52,53,54,55,56,57,58,59,60,61,62,63,64,65,66,67,68,69,70,71,72,73,74,75,76,77,78,79,80,81,82,83,84,85,86,87,88,89,90,91,92,93,94,95,96,97,98,99],\"y\":[0.4,0.3148148148148148,0.6377952755905512,0.6377952755905512,0.11627906976744184,0.6422018348623855,0.24875621890547261,0.0697674418604651,0.17777777777777778,0.0,0.25365853658536586,0.6377952755905512,0.6574074074074073,0.5153374233128833,0.28,0.1473684210526316,0.3486238532110092,0.4462809917355372,0.0,0.0,0.5079365079365079,0.0,0.0,0.0,0.0,0.3106796116504854,0.5752066115702479,0.13333333333333333,0.0,0.0,0.0,0.0,0.0,0.6377952755905512,0.7794561933534744,0.6219081272084805,0.676,0.7285223367697594,0.8025078369905956,0.7532467532467532,0.7391304347826088,0.8109756097560975,0.7429906542056075,0.7942857142857143,0.7696335078534031,0.7596899224806202,0.78125,0.7524271844660193,0.7987987987987988,0.7934131736526946,0.7837398373983739,0.7698986975397973,0.7727272727272727,0.7441285537700864,0.7821067821067821,0.8072837632776936,0.7745839636913766,0.7870778267254037,0.7917282127031018,0.7987804878048782,0.7936507936507936,0.7880597014925372,0.25,0.7777777777777778,0.5714285714285714,0.8132530120481927,0.7702888583218707,0.4822695035460993,0.7891373801916932,0.7733333333333334,0.5750798722044729,0.7756410256410257,0.7951807228915663,0.8050314465408804,0.7898089171974522,0.825,0.8074534161490683,0.7831325301204819,0.7926829268292682,0.7659574468085106,0.18181818181818182,0.6808510638297872,0.7684210526315789,0.7403846153846153,0.7812500000000001,0.7638668779714738,0.7399999999999999,0.25,0.7813411078717202,0.8023255813953488,0.768472906403941,0.7609427609427609,0.737913486005089,0.2222222222222222,0.7891891891891891,0.8022922636103154,0.7818696883852692,0.8048780487804879,0.7425149700598801,0.7448275862068966],\"type\":\"scatter\"},{\"mode\":\"lines\",\"name\":\"Best Value\",\"x\":[0,1,2,3,4,5,6,7,8,9,10,11,12,13,14,15,16,17,18,19,20,21,22,23,24,25,26,27,28,29,30,31,32,33,34,35,36,37,38,39,40,41,42,43,44,45,46,47,48,49,50,51,52,53,54,55,56,57,58,59,60,61,62,63,64,65,66,67,68,69,70,71,72,73,74,75,76,77,78,79,80,81,82,83,84,85,86,87,88,89,90,91,92,93,94,95,96,97,98,99],\"y\":[0.4,0.4,0.6377952755905512,0.6377952755905512,0.6377952755905512,0.6422018348623855,0.6422018348623855,0.6422018348623855,0.6422018348623855,0.6422018348623855,0.6422018348623855,0.6422018348623855,0.6574074074074073,0.6574074074074073,0.6574074074074073,0.6574074074074073,0.6574074074074073,0.6574074074074073,0.6574074074074073,0.6574074074074073,0.6574074074074073,0.6574074074074073,0.6574074074074073,0.6574074074074073,0.6574074074074073,0.6574074074074073,0.6574074074074073,0.6574074074074073,0.6574074074074073,0.6574074074074073,0.6574074074074073,0.6574074074074073,0.6574074074074073,0.6574074074074073,0.7794561933534744,0.7794561933534744,0.7794561933534744,0.7794561933534744,0.8025078369905956,0.8025078369905956,0.8025078369905956,0.8109756097560975,0.8109756097560975,0.8109756097560975,0.8109756097560975,0.8109756097560975,0.8109756097560975,0.8109756097560975,0.8109756097560975,0.8109756097560975,0.8109756097560975,0.8109756097560975,0.8109756097560975,0.8109756097560975,0.8109756097560975,0.8109756097560975,0.8109756097560975,0.8109756097560975,0.8109756097560975,0.8109756097560975,0.8109756097560975,0.8109756097560975,0.8109756097560975,0.8109756097560975,0.8109756097560975,0.8132530120481927,0.8132530120481927,0.8132530120481927,0.8132530120481927,0.8132530120481927,0.8132530120481927,0.8132530120481927,0.8132530120481927,0.8132530120481927,0.8132530120481927,0.825,0.825,0.825,0.825,0.825,0.825,0.825,0.825,0.825,0.825,0.825,0.825,0.825,0.825,0.825,0.825,0.825,0.825,0.825,0.825,0.825,0.825,0.825,0.825,0.825],\"type\":\"scatter\"},{\"marker\":{\"color\":\"#cccccc\"},\"mode\":\"markers\",\"name\":\"Infeasible Trial\",\"showlegend\":false,\"x\":[],\"y\":[],\"type\":\"scatter\"}],                        {\"title\":{\"text\":\"Optimization History Plot\"},\"xaxis\":{\"title\":{\"text\":\"Trial\"}},\"yaxis\":{\"title\":{\"text\":\"Objective Value\"}},\"template\":{\"data\":{\"histogram2dcontour\":[{\"type\":\"histogram2dcontour\",\"colorbar\":{\"outlinewidth\":0,\"ticks\":\"\"},\"colorscale\":[[0.0,\"#0d0887\"],[0.1111111111111111,\"#46039f\"],[0.2222222222222222,\"#7201a8\"],[0.3333333333333333,\"#9c179e\"],[0.4444444444444444,\"#bd3786\"],[0.5555555555555556,\"#d8576b\"],[0.6666666666666666,\"#ed7953\"],[0.7777777777777778,\"#fb9f3a\"],[0.8888888888888888,\"#fdca26\"],[1.0,\"#f0f921\"]]}],\"choropleth\":[{\"type\":\"choropleth\",\"colorbar\":{\"outlinewidth\":0,\"ticks\":\"\"}}],\"histogram2d\":[{\"type\":\"histogram2d\",\"colorbar\":{\"outlinewidth\":0,\"ticks\":\"\"},\"colorscale\":[[0.0,\"#0d0887\"],[0.1111111111111111,\"#46039f\"],[0.2222222222222222,\"#7201a8\"],[0.3333333333333333,\"#9c179e\"],[0.4444444444444444,\"#bd3786\"],[0.5555555555555556,\"#d8576b\"],[0.6666666666666666,\"#ed7953\"],[0.7777777777777778,\"#fb9f3a\"],[0.8888888888888888,\"#fdca26\"],[1.0,\"#f0f921\"]]}],\"heatmap\":[{\"type\":\"heatmap\",\"colorbar\":{\"outlinewidth\":0,\"ticks\":\"\"},\"colorscale\":[[0.0,\"#0d0887\"],[0.1111111111111111,\"#46039f\"],[0.2222222222222222,\"#7201a8\"],[0.3333333333333333,\"#9c179e\"],[0.4444444444444444,\"#bd3786\"],[0.5555555555555556,\"#d8576b\"],[0.6666666666666666,\"#ed7953\"],[0.7777777777777778,\"#fb9f3a\"],[0.8888888888888888,\"#fdca26\"],[1.0,\"#f0f921\"]]}],\"heatmapgl\":[{\"type\":\"heatmapgl\",\"colorbar\":{\"outlinewidth\":0,\"ticks\":\"\"},\"colorscale\":[[0.0,\"#0d0887\"],[0.1111111111111111,\"#46039f\"],[0.2222222222222222,\"#7201a8\"],[0.3333333333333333,\"#9c179e\"],[0.4444444444444444,\"#bd3786\"],[0.5555555555555556,\"#d8576b\"],[0.6666666666666666,\"#ed7953\"],[0.7777777777777778,\"#fb9f3a\"],[0.8888888888888888,\"#fdca26\"],[1.0,\"#f0f921\"]]}],\"contourcarpet\":[{\"type\":\"contourcarpet\",\"colorbar\":{\"outlinewidth\":0,\"ticks\":\"\"}}],\"contour\":[{\"type\":\"contour\",\"colorbar\":{\"outlinewidth\":0,\"ticks\":\"\"},\"colorscale\":[[0.0,\"#0d0887\"],[0.1111111111111111,\"#46039f\"],[0.2222222222222222,\"#7201a8\"],[0.3333333333333333,\"#9c179e\"],[0.4444444444444444,\"#bd3786\"],[0.5555555555555556,\"#d8576b\"],[0.6666666666666666,\"#ed7953\"],[0.7777777777777778,\"#fb9f3a\"],[0.8888888888888888,\"#fdca26\"],[1.0,\"#f0f921\"]]}],\"surface\":[{\"type\":\"surface\",\"colorbar\":{\"outlinewidth\":0,\"ticks\":\"\"},\"colorscale\":[[0.0,\"#0d0887\"],[0.1111111111111111,\"#46039f\"],[0.2222222222222222,\"#7201a8\"],[0.3333333333333333,\"#9c179e\"],[0.4444444444444444,\"#bd3786\"],[0.5555555555555556,\"#d8576b\"],[0.6666666666666666,\"#ed7953\"],[0.7777777777777778,\"#fb9f3a\"],[0.8888888888888888,\"#fdca26\"],[1.0,\"#f0f921\"]]}],\"mesh3d\":[{\"type\":\"mesh3d\",\"colorbar\":{\"outlinewidth\":0,\"ticks\":\"\"}}],\"scatter\":[{\"fillpattern\":{\"fillmode\":\"overlay\",\"size\":10,\"solidity\":0.2},\"type\":\"scatter\"}],\"parcoords\":[{\"type\":\"parcoords\",\"line\":{\"colorbar\":{\"outlinewidth\":0,\"ticks\":\"\"}}}],\"scatterpolargl\":[{\"type\":\"scatterpolargl\",\"marker\":{\"colorbar\":{\"outlinewidth\":0,\"ticks\":\"\"}}}],\"bar\":[{\"error_x\":{\"color\":\"#2a3f5f\"},\"error_y\":{\"color\":\"#2a3f5f\"},\"marker\":{\"line\":{\"color\":\"#E5ECF6\",\"width\":0.5},\"pattern\":{\"fillmode\":\"overlay\",\"size\":10,\"solidity\":0.2}},\"type\":\"bar\"}],\"scattergeo\":[{\"type\":\"scattergeo\",\"marker\":{\"colorbar\":{\"outlinewidth\":0,\"ticks\":\"\"}}}],\"scatterpolar\":[{\"type\":\"scatterpolar\",\"marker\":{\"colorbar\":{\"outlinewidth\":0,\"ticks\":\"\"}}}],\"histogram\":[{\"marker\":{\"pattern\":{\"fillmode\":\"overlay\",\"size\":10,\"solidity\":0.2}},\"type\":\"histogram\"}],\"scattergl\":[{\"type\":\"scattergl\",\"marker\":{\"colorbar\":{\"outlinewidth\":0,\"ticks\":\"\"}}}],\"scatter3d\":[{\"type\":\"scatter3d\",\"line\":{\"colorbar\":{\"outlinewidth\":0,\"ticks\":\"\"}},\"marker\":{\"colorbar\":{\"outlinewidth\":0,\"ticks\":\"\"}}}],\"scattermapbox\":[{\"type\":\"scattermapbox\",\"marker\":{\"colorbar\":{\"outlinewidth\":0,\"ticks\":\"\"}}}],\"scatterternary\":[{\"type\":\"scatterternary\",\"marker\":{\"colorbar\":{\"outlinewidth\":0,\"ticks\":\"\"}}}],\"scattercarpet\":[{\"type\":\"scattercarpet\",\"marker\":{\"colorbar\":{\"outlinewidth\":0,\"ticks\":\"\"}}}],\"carpet\":[{\"aaxis\":{\"endlinecolor\":\"#2a3f5f\",\"gridcolor\":\"white\",\"linecolor\":\"white\",\"minorgridcolor\":\"white\",\"startlinecolor\":\"#2a3f5f\"},\"baxis\":{\"endlinecolor\":\"#2a3f5f\",\"gridcolor\":\"white\",\"linecolor\":\"white\",\"minorgridcolor\":\"white\",\"startlinecolor\":\"#2a3f5f\"},\"type\":\"carpet\"}],\"table\":[{\"cells\":{\"fill\":{\"color\":\"#EBF0F8\"},\"line\":{\"color\":\"white\"}},\"header\":{\"fill\":{\"color\":\"#C8D4E3\"},\"line\":{\"color\":\"white\"}},\"type\":\"table\"}],\"barpolar\":[{\"marker\":{\"line\":{\"color\":\"#E5ECF6\",\"width\":0.5},\"pattern\":{\"fillmode\":\"overlay\",\"size\":10,\"solidity\":0.2}},\"type\":\"barpolar\"}],\"pie\":[{\"automargin\":true,\"type\":\"pie\"}]},\"layout\":{\"autotypenumbers\":\"strict\",\"colorway\":[\"#636efa\",\"#EF553B\",\"#00cc96\",\"#ab63fa\",\"#FFA15A\",\"#19d3f3\",\"#FF6692\",\"#B6E880\",\"#FF97FF\",\"#FECB52\"],\"font\":{\"color\":\"#2a3f5f\"},\"hovermode\":\"closest\",\"hoverlabel\":{\"align\":\"left\"},\"paper_bgcolor\":\"white\",\"plot_bgcolor\":\"#E5ECF6\",\"polar\":{\"bgcolor\":\"#E5ECF6\",\"angularaxis\":{\"gridcolor\":\"white\",\"linecolor\":\"white\",\"ticks\":\"\"},\"radialaxis\":{\"gridcolor\":\"white\",\"linecolor\":\"white\",\"ticks\":\"\"}},\"ternary\":{\"bgcolor\":\"#E5ECF6\",\"aaxis\":{\"gridcolor\":\"white\",\"linecolor\":\"white\",\"ticks\":\"\"},\"baxis\":{\"gridcolor\":\"white\",\"linecolor\":\"white\",\"ticks\":\"\"},\"caxis\":{\"gridcolor\":\"white\",\"linecolor\":\"white\",\"ticks\":\"\"}},\"coloraxis\":{\"colorbar\":{\"outlinewidth\":0,\"ticks\":\"\"}},\"colorscale\":{\"sequential\":[[0.0,\"#0d0887\"],[0.1111111111111111,\"#46039f\"],[0.2222222222222222,\"#7201a8\"],[0.3333333333333333,\"#9c179e\"],[0.4444444444444444,\"#bd3786\"],[0.5555555555555556,\"#d8576b\"],[0.6666666666666666,\"#ed7953\"],[0.7777777777777778,\"#fb9f3a\"],[0.8888888888888888,\"#fdca26\"],[1.0,\"#f0f921\"]],\"sequentialminus\":[[0.0,\"#0d0887\"],[0.1111111111111111,\"#46039f\"],[0.2222222222222222,\"#7201a8\"],[0.3333333333333333,\"#9c179e\"],[0.4444444444444444,\"#bd3786\"],[0.5555555555555556,\"#d8576b\"],[0.6666666666666666,\"#ed7953\"],[0.7777777777777778,\"#fb9f3a\"],[0.8888888888888888,\"#fdca26\"],[1.0,\"#f0f921\"]],\"diverging\":[[0,\"#8e0152\"],[0.1,\"#c51b7d\"],[0.2,\"#de77ae\"],[0.3,\"#f1b6da\"],[0.4,\"#fde0ef\"],[0.5,\"#f7f7f7\"],[0.6,\"#e6f5d0\"],[0.7,\"#b8e186\"],[0.8,\"#7fbc41\"],[0.9,\"#4d9221\"],[1,\"#276419\"]]},\"xaxis\":{\"gridcolor\":\"white\",\"linecolor\":\"white\",\"ticks\":\"\",\"title\":{\"standoff\":15},\"zerolinecolor\":\"white\",\"automargin\":true,\"zerolinewidth\":2},\"yaxis\":{\"gridcolor\":\"white\",\"linecolor\":\"white\",\"ticks\":\"\",\"title\":{\"standoff\":15},\"zerolinecolor\":\"white\",\"automargin\":true,\"zerolinewidth\":2},\"scene\":{\"xaxis\":{\"backgroundcolor\":\"#E5ECF6\",\"gridcolor\":\"white\",\"linecolor\":\"white\",\"showbackground\":true,\"ticks\":\"\",\"zerolinecolor\":\"white\",\"gridwidth\":2},\"yaxis\":{\"backgroundcolor\":\"#E5ECF6\",\"gridcolor\":\"white\",\"linecolor\":\"white\",\"showbackground\":true,\"ticks\":\"\",\"zerolinecolor\":\"white\",\"gridwidth\":2},\"zaxis\":{\"backgroundcolor\":\"#E5ECF6\",\"gridcolor\":\"white\",\"linecolor\":\"white\",\"showbackground\":true,\"ticks\":\"\",\"zerolinecolor\":\"white\",\"gridwidth\":2}},\"shapedefaults\":{\"line\":{\"color\":\"#2a3f5f\"}},\"annotationdefaults\":{\"arrowcolor\":\"#2a3f5f\",\"arrowhead\":0,\"arrowwidth\":1},\"geo\":{\"bgcolor\":\"white\",\"landcolor\":\"#E5ECF6\",\"subunitcolor\":\"white\",\"showland\":true,\"showlakes\":true,\"lakecolor\":\"white\"},\"title\":{\"x\":0.05},\"mapbox\":{\"style\":\"light\"}}}},                        {\"staticPlot\": true, \"responsive\": true}                    ).then(function(){\n",
       "                            \n",
       "var gd = document.getElementById('73dd17a6-e5a5-4a14-8830-5f30ab2c1305');\n",
       "var x = new MutationObserver(function (mutations, observer) {{\n",
       "        var display = window.getComputedStyle(gd).display;\n",
       "        if (!display || display === 'none') {{\n",
       "            console.log([gd, 'removed!']);\n",
       "            Plotly.purge(gd);\n",
       "            observer.disconnect();\n",
       "        }}\n",
       "}});\n",
       "\n",
       "// Listen for the removal of the full notebook cells\n",
       "var notebookContainer = gd.closest('#notebook-container');\n",
       "if (notebookContainer) {{\n",
       "    x.observe(notebookContainer, {childList: true});\n",
       "}}\n",
       "\n",
       "// Listen for the clearing of the current output cell\n",
       "var outputEl = gd.closest('.output');\n",
       "if (outputEl) {{\n",
       "    x.observe(outputEl, {childList: true});\n",
       "}}\n",
       "\n",
       "                        })                };                });            </script>        </div>"
      ]
     },
     "metadata": {},
     "output_type": "display_data"
    }
   ],
   "source": [
    "plotly_config = {\"staticPlot\": True}\n",
    "fig = plot_optimization_history(study)\n",
    "fig.show(config=plotly_config)"
   ]
  },
  {
   "cell_type": "code",
   "execution_count": 46,
   "metadata": {
    "execution": {
     "iopub.execute_input": "2024-04-18T03:26:30.699258Z",
     "iopub.status.busy": "2024-04-18T03:26:30.698921Z",
     "iopub.status.idle": "2024-04-18T03:26:32.347147Z",
     "shell.execute_reply": "2024-04-18T03:26:32.346259Z",
     "shell.execute_reply.started": "2024-04-18T03:26:30.699232Z"
    },
    "trusted": true
   },
   "outputs": [
    {
     "data": {
      "text/html": [
       "<div>                            <div id=\"737aeb61-dff2-41dd-885c-5acef0e57841\" class=\"plotly-graph-div\" style=\"height:525px; width:100%;\"></div>            <script type=\"text/javascript\">                require([\"plotly\"], function(Plotly) {                    window.PLOTLYENV=window.PLOTLYENV || {};                                    if (document.getElementById(\"737aeb61-dff2-41dd-885c-5acef0e57841\")) {                    Plotly.newPlot(                        \"737aeb61-dff2-41dd-885c-5acef0e57841\",                        [{\"cliponaxis\":false,\"hovertemplate\":[\"no_of_neurons_l0 (IntDistribution): 0.059269487938102695\\u003cextra\\u003e\\u003c\\u002fextra\\u003e\",\"dropout_l0 (FloatDistribution): 0.12508999414248484\\u003cextra\\u003e\\u003c\\u002fextra\\u003e\",\"no_of_layers (IntDistribution): 0.1329936663708114\\u003cextra\\u003e\\u003c\\u002fextra\\u003e\",\"lr (FloatDistribution): 0.14777451577431827\\u003cextra\\u003e\\u003c\\u002fextra\\u003e\",\"apply_sliding_window (CategoricalDistribution): 0.2075529407914883\\u003cextra\\u003e\\u003c\\u002fextra\\u003e\",\"bs (IntDistribution): 0.32731939498279466\\u003cextra\\u003e\\u003c\\u002fextra\\u003e\"],\"name\":\"Objective Value\",\"orientation\":\"h\",\"text\":[\"0.06\",\"0.13\",\"0.13\",\"0.15\",\"0.21\",\"0.33\"],\"textposition\":\"outside\",\"x\":[0.059269487938102695,0.12508999414248484,0.1329936663708114,0.14777451577431827,0.2075529407914883,0.32731939498279466],\"y\":[\"no_of_neurons_l0\",\"dropout_l0\",\"no_of_layers\",\"lr\",\"apply_sliding_window\",\"bs\"],\"type\":\"bar\"}],                        {\"title\":{\"text\":\"Hyperparameter Importances\"},\"xaxis\":{\"title\":{\"text\":\"Hyperparameter Importance\"}},\"yaxis\":{\"title\":{\"text\":\"Hyperparameter\"}},\"template\":{\"data\":{\"histogram2dcontour\":[{\"type\":\"histogram2dcontour\",\"colorbar\":{\"outlinewidth\":0,\"ticks\":\"\"},\"colorscale\":[[0.0,\"#0d0887\"],[0.1111111111111111,\"#46039f\"],[0.2222222222222222,\"#7201a8\"],[0.3333333333333333,\"#9c179e\"],[0.4444444444444444,\"#bd3786\"],[0.5555555555555556,\"#d8576b\"],[0.6666666666666666,\"#ed7953\"],[0.7777777777777778,\"#fb9f3a\"],[0.8888888888888888,\"#fdca26\"],[1.0,\"#f0f921\"]]}],\"choropleth\":[{\"type\":\"choropleth\",\"colorbar\":{\"outlinewidth\":0,\"ticks\":\"\"}}],\"histogram2d\":[{\"type\":\"histogram2d\",\"colorbar\":{\"outlinewidth\":0,\"ticks\":\"\"},\"colorscale\":[[0.0,\"#0d0887\"],[0.1111111111111111,\"#46039f\"],[0.2222222222222222,\"#7201a8\"],[0.3333333333333333,\"#9c179e\"],[0.4444444444444444,\"#bd3786\"],[0.5555555555555556,\"#d8576b\"],[0.6666666666666666,\"#ed7953\"],[0.7777777777777778,\"#fb9f3a\"],[0.8888888888888888,\"#fdca26\"],[1.0,\"#f0f921\"]]}],\"heatmap\":[{\"type\":\"heatmap\",\"colorbar\":{\"outlinewidth\":0,\"ticks\":\"\"},\"colorscale\":[[0.0,\"#0d0887\"],[0.1111111111111111,\"#46039f\"],[0.2222222222222222,\"#7201a8\"],[0.3333333333333333,\"#9c179e\"],[0.4444444444444444,\"#bd3786\"],[0.5555555555555556,\"#d8576b\"],[0.6666666666666666,\"#ed7953\"],[0.7777777777777778,\"#fb9f3a\"],[0.8888888888888888,\"#fdca26\"],[1.0,\"#f0f921\"]]}],\"heatmapgl\":[{\"type\":\"heatmapgl\",\"colorbar\":{\"outlinewidth\":0,\"ticks\":\"\"},\"colorscale\":[[0.0,\"#0d0887\"],[0.1111111111111111,\"#46039f\"],[0.2222222222222222,\"#7201a8\"],[0.3333333333333333,\"#9c179e\"],[0.4444444444444444,\"#bd3786\"],[0.5555555555555556,\"#d8576b\"],[0.6666666666666666,\"#ed7953\"],[0.7777777777777778,\"#fb9f3a\"],[0.8888888888888888,\"#fdca26\"],[1.0,\"#f0f921\"]]}],\"contourcarpet\":[{\"type\":\"contourcarpet\",\"colorbar\":{\"outlinewidth\":0,\"ticks\":\"\"}}],\"contour\":[{\"type\":\"contour\",\"colorbar\":{\"outlinewidth\":0,\"ticks\":\"\"},\"colorscale\":[[0.0,\"#0d0887\"],[0.1111111111111111,\"#46039f\"],[0.2222222222222222,\"#7201a8\"],[0.3333333333333333,\"#9c179e\"],[0.4444444444444444,\"#bd3786\"],[0.5555555555555556,\"#d8576b\"],[0.6666666666666666,\"#ed7953\"],[0.7777777777777778,\"#fb9f3a\"],[0.8888888888888888,\"#fdca26\"],[1.0,\"#f0f921\"]]}],\"surface\":[{\"type\":\"surface\",\"colorbar\":{\"outlinewidth\":0,\"ticks\":\"\"},\"colorscale\":[[0.0,\"#0d0887\"],[0.1111111111111111,\"#46039f\"],[0.2222222222222222,\"#7201a8\"],[0.3333333333333333,\"#9c179e\"],[0.4444444444444444,\"#bd3786\"],[0.5555555555555556,\"#d8576b\"],[0.6666666666666666,\"#ed7953\"],[0.7777777777777778,\"#fb9f3a\"],[0.8888888888888888,\"#fdca26\"],[1.0,\"#f0f921\"]]}],\"mesh3d\":[{\"type\":\"mesh3d\",\"colorbar\":{\"outlinewidth\":0,\"ticks\":\"\"}}],\"scatter\":[{\"fillpattern\":{\"fillmode\":\"overlay\",\"size\":10,\"solidity\":0.2},\"type\":\"scatter\"}],\"parcoords\":[{\"type\":\"parcoords\",\"line\":{\"colorbar\":{\"outlinewidth\":0,\"ticks\":\"\"}}}],\"scatterpolargl\":[{\"type\":\"scatterpolargl\",\"marker\":{\"colorbar\":{\"outlinewidth\":0,\"ticks\":\"\"}}}],\"bar\":[{\"error_x\":{\"color\":\"#2a3f5f\"},\"error_y\":{\"color\":\"#2a3f5f\"},\"marker\":{\"line\":{\"color\":\"#E5ECF6\",\"width\":0.5},\"pattern\":{\"fillmode\":\"overlay\",\"size\":10,\"solidity\":0.2}},\"type\":\"bar\"}],\"scattergeo\":[{\"type\":\"scattergeo\",\"marker\":{\"colorbar\":{\"outlinewidth\":0,\"ticks\":\"\"}}}],\"scatterpolar\":[{\"type\":\"scatterpolar\",\"marker\":{\"colorbar\":{\"outlinewidth\":0,\"ticks\":\"\"}}}],\"histogram\":[{\"marker\":{\"pattern\":{\"fillmode\":\"overlay\",\"size\":10,\"solidity\":0.2}},\"type\":\"histogram\"}],\"scattergl\":[{\"type\":\"scattergl\",\"marker\":{\"colorbar\":{\"outlinewidth\":0,\"ticks\":\"\"}}}],\"scatter3d\":[{\"type\":\"scatter3d\",\"line\":{\"colorbar\":{\"outlinewidth\":0,\"ticks\":\"\"}},\"marker\":{\"colorbar\":{\"outlinewidth\":0,\"ticks\":\"\"}}}],\"scattermapbox\":[{\"type\":\"scattermapbox\",\"marker\":{\"colorbar\":{\"outlinewidth\":0,\"ticks\":\"\"}}}],\"scatterternary\":[{\"type\":\"scatterternary\",\"marker\":{\"colorbar\":{\"outlinewidth\":0,\"ticks\":\"\"}}}],\"scattercarpet\":[{\"type\":\"scattercarpet\",\"marker\":{\"colorbar\":{\"outlinewidth\":0,\"ticks\":\"\"}}}],\"carpet\":[{\"aaxis\":{\"endlinecolor\":\"#2a3f5f\",\"gridcolor\":\"white\",\"linecolor\":\"white\",\"minorgridcolor\":\"white\",\"startlinecolor\":\"#2a3f5f\"},\"baxis\":{\"endlinecolor\":\"#2a3f5f\",\"gridcolor\":\"white\",\"linecolor\":\"white\",\"minorgridcolor\":\"white\",\"startlinecolor\":\"#2a3f5f\"},\"type\":\"carpet\"}],\"table\":[{\"cells\":{\"fill\":{\"color\":\"#EBF0F8\"},\"line\":{\"color\":\"white\"}},\"header\":{\"fill\":{\"color\":\"#C8D4E3\"},\"line\":{\"color\":\"white\"}},\"type\":\"table\"}],\"barpolar\":[{\"marker\":{\"line\":{\"color\":\"#E5ECF6\",\"width\":0.5},\"pattern\":{\"fillmode\":\"overlay\",\"size\":10,\"solidity\":0.2}},\"type\":\"barpolar\"}],\"pie\":[{\"automargin\":true,\"type\":\"pie\"}]},\"layout\":{\"autotypenumbers\":\"strict\",\"colorway\":[\"#636efa\",\"#EF553B\",\"#00cc96\",\"#ab63fa\",\"#FFA15A\",\"#19d3f3\",\"#FF6692\",\"#B6E880\",\"#FF97FF\",\"#FECB52\"],\"font\":{\"color\":\"#2a3f5f\"},\"hovermode\":\"closest\",\"hoverlabel\":{\"align\":\"left\"},\"paper_bgcolor\":\"white\",\"plot_bgcolor\":\"#E5ECF6\",\"polar\":{\"bgcolor\":\"#E5ECF6\",\"angularaxis\":{\"gridcolor\":\"white\",\"linecolor\":\"white\",\"ticks\":\"\"},\"radialaxis\":{\"gridcolor\":\"white\",\"linecolor\":\"white\",\"ticks\":\"\"}},\"ternary\":{\"bgcolor\":\"#E5ECF6\",\"aaxis\":{\"gridcolor\":\"white\",\"linecolor\":\"white\",\"ticks\":\"\"},\"baxis\":{\"gridcolor\":\"white\",\"linecolor\":\"white\",\"ticks\":\"\"},\"caxis\":{\"gridcolor\":\"white\",\"linecolor\":\"white\",\"ticks\":\"\"}},\"coloraxis\":{\"colorbar\":{\"outlinewidth\":0,\"ticks\":\"\"}},\"colorscale\":{\"sequential\":[[0.0,\"#0d0887\"],[0.1111111111111111,\"#46039f\"],[0.2222222222222222,\"#7201a8\"],[0.3333333333333333,\"#9c179e\"],[0.4444444444444444,\"#bd3786\"],[0.5555555555555556,\"#d8576b\"],[0.6666666666666666,\"#ed7953\"],[0.7777777777777778,\"#fb9f3a\"],[0.8888888888888888,\"#fdca26\"],[1.0,\"#f0f921\"]],\"sequentialminus\":[[0.0,\"#0d0887\"],[0.1111111111111111,\"#46039f\"],[0.2222222222222222,\"#7201a8\"],[0.3333333333333333,\"#9c179e\"],[0.4444444444444444,\"#bd3786\"],[0.5555555555555556,\"#d8576b\"],[0.6666666666666666,\"#ed7953\"],[0.7777777777777778,\"#fb9f3a\"],[0.8888888888888888,\"#fdca26\"],[1.0,\"#f0f921\"]],\"diverging\":[[0,\"#8e0152\"],[0.1,\"#c51b7d\"],[0.2,\"#de77ae\"],[0.3,\"#f1b6da\"],[0.4,\"#fde0ef\"],[0.5,\"#f7f7f7\"],[0.6,\"#e6f5d0\"],[0.7,\"#b8e186\"],[0.8,\"#7fbc41\"],[0.9,\"#4d9221\"],[1,\"#276419\"]]},\"xaxis\":{\"gridcolor\":\"white\",\"linecolor\":\"white\",\"ticks\":\"\",\"title\":{\"standoff\":15},\"zerolinecolor\":\"white\",\"automargin\":true,\"zerolinewidth\":2},\"yaxis\":{\"gridcolor\":\"white\",\"linecolor\":\"white\",\"ticks\":\"\",\"title\":{\"standoff\":15},\"zerolinecolor\":\"white\",\"automargin\":true,\"zerolinewidth\":2},\"scene\":{\"xaxis\":{\"backgroundcolor\":\"#E5ECF6\",\"gridcolor\":\"white\",\"linecolor\":\"white\",\"showbackground\":true,\"ticks\":\"\",\"zerolinecolor\":\"white\",\"gridwidth\":2},\"yaxis\":{\"backgroundcolor\":\"#E5ECF6\",\"gridcolor\":\"white\",\"linecolor\":\"white\",\"showbackground\":true,\"ticks\":\"\",\"zerolinecolor\":\"white\",\"gridwidth\":2},\"zaxis\":{\"backgroundcolor\":\"#E5ECF6\",\"gridcolor\":\"white\",\"linecolor\":\"white\",\"showbackground\":true,\"ticks\":\"\",\"zerolinecolor\":\"white\",\"gridwidth\":2}},\"shapedefaults\":{\"line\":{\"color\":\"#2a3f5f\"}},\"annotationdefaults\":{\"arrowcolor\":\"#2a3f5f\",\"arrowhead\":0,\"arrowwidth\":1},\"geo\":{\"bgcolor\":\"white\",\"landcolor\":\"#E5ECF6\",\"subunitcolor\":\"white\",\"showland\":true,\"showlakes\":true,\"lakecolor\":\"white\"},\"title\":{\"x\":0.05},\"mapbox\":{\"style\":\"light\"}}}},                        {\"staticPlot\": true, \"responsive\": true}                    ).then(function(){\n",
       "                            \n",
       "var gd = document.getElementById('737aeb61-dff2-41dd-885c-5acef0e57841');\n",
       "var x = new MutationObserver(function (mutations, observer) {{\n",
       "        var display = window.getComputedStyle(gd).display;\n",
       "        if (!display || display === 'none') {{\n",
       "            console.log([gd, 'removed!']);\n",
       "            Plotly.purge(gd);\n",
       "            observer.disconnect();\n",
       "        }}\n",
       "}});\n",
       "\n",
       "// Listen for the removal of the full notebook cells\n",
       "var notebookContainer = gd.closest('#notebook-container');\n",
       "if (notebookContainer) {{\n",
       "    x.observe(notebookContainer, {childList: true});\n",
       "}}\n",
       "\n",
       "// Listen for the clearing of the current output cell\n",
       "var outputEl = gd.closest('.output');\n",
       "if (outputEl) {{\n",
       "    x.observe(outputEl, {childList: true});\n",
       "}}\n",
       "\n",
       "                        })                };                });            </script>        </div>"
      ]
     },
     "metadata": {},
     "output_type": "display_data"
    }
   ],
   "source": [
    "fig = plot_param_importances(study)\n",
    "fig.show(config=plotly_config)"
   ]
  },
  {
   "cell_type": "markdown",
   "metadata": {},
   "source": [
    "* getting the variables ready to train on them "
   ]
  },
  {
   "cell_type": "code",
   "execution_count": 47,
   "metadata": {
    "execution": {
     "iopub.execute_input": "2024-04-18T03:26:32.348509Z",
     "iopub.status.busy": "2024-04-18T03:26:32.348230Z",
     "iopub.status.idle": "2024-04-18T03:26:32.354568Z",
     "shell.execute_reply": "2024-04-18T03:26:32.353676Z",
     "shell.execute_reply.started": "2024-04-18T03:26:32.348485Z"
    },
    "trusted": true
   },
   "outputs": [],
   "source": [
    "layers = []\n",
    "dropouts = []\n",
    "if trial.params[\"no_of_layers\"] == 1:\n",
    "    layers = trial.params[\"no_of_neurons_l0\"]\n",
    "    dropouts = trial.params[\"dropout_l0\"]\n",
    "else:\n",
    "    layers.append(trial.params[\"no_of_neurons_l0\"])\n",
    "    layers.append(trial.params[\"no_of_neurons_l1\"])\n",
    "    dropouts.append(trial.params[\"dropout_l0\"])\n",
    "    dropouts.append(trial.params[\"dropout_l1\"])"
   ]
  },
  {
   "cell_type": "markdown",
   "metadata": {},
   "source": [
    "# Training with the best found hyperparamters"
   ]
  },
  {
   "cell_type": "code",
   "execution_count": 50,
   "metadata": {
    "execution": {
     "iopub.execute_input": "2024-04-18T03:30:41.776326Z",
     "iopub.status.busy": "2024-04-18T03:30:41.775674Z",
     "iopub.status.idle": "2024-04-18T03:30:48.414112Z",
     "shell.execute_reply": "2024-04-18T03:30:48.413175Z",
     "shell.execute_reply.started": "2024-04-18T03:30:41.776287Z"
    },
    "trusted": true
   },
   "outputs": [
    {
     "name": "stdout",
     "output_type": "stream",
     "text": [
      "valid == train\n"
     ]
    },
    {
     "data": {
      "text/html": [
       "\n",
       "<style>\n",
       "    /* Turns off some styling */\n",
       "    progress {\n",
       "        /* gets rid of default border in Firefox and Opera. */\n",
       "        border: none;\n",
       "        /* Needs to be in here for Safari polyfill so background images work as expected. */\n",
       "        background-size: auto;\n",
       "    }\n",
       "    progress:not([value]), progress:not([value])::-webkit-progress-bar {\n",
       "        background: repeating-linear-gradient(45deg, #7e7e7e, #7e7e7e 10px, #5c5c5c 10px, #5c5c5c 20px);\n",
       "    }\n",
       "    .progress-bar-interrupted, .progress-bar-interrupted::-webkit-progress-bar {\n",
       "        background: #F44336;\n",
       "    }\n",
       "</style>\n"
      ],
      "text/plain": [
       "<IPython.core.display.HTML object>"
      ]
     },
     "metadata": {},
     "output_type": "display_data"
    },
    {
     "data": {
      "text/html": [
       "<table border=\"1\" class=\"dataframe\">\n",
       "  <thead>\n",
       "    <tr style=\"text-align: left;\">\n",
       "      <th>epoch</th>\n",
       "      <th>train_loss</th>\n",
       "      <th>valid_loss</th>\n",
       "      <th>accuracy</th>\n",
       "      <th>precision_score</th>\n",
       "      <th>recall_score</th>\n",
       "      <th>f1_score</th>\n",
       "      <th>balanced_accuracy_score</th>\n",
       "      <th>time</th>\n",
       "    </tr>\n",
       "  </thead>\n",
       "  <tbody>\n",
       "    <tr>\n",
       "      <td>0</td>\n",
       "      <td>0.642609</td>\n",
       "      <td>0.607451</td>\n",
       "      <td>0.623256</td>\n",
       "      <td>1.000000</td>\n",
       "      <td>0.068966</td>\n",
       "      <td>0.129032</td>\n",
       "      <td>0.534483</td>\n",
       "      <td>00:00</td>\n",
       "    </tr>\n",
       "    <tr>\n",
       "      <td>1</td>\n",
       "      <td>0.590337</td>\n",
       "      <td>0.540743</td>\n",
       "      <td>0.790698</td>\n",
       "      <td>0.738636</td>\n",
       "      <td>0.747126</td>\n",
       "      <td>0.742857</td>\n",
       "      <td>0.783719</td>\n",
       "      <td>00:00</td>\n",
       "    </tr>\n",
       "    <tr>\n",
       "      <td>2</td>\n",
       "      <td>0.527849</td>\n",
       "      <td>0.408494</td>\n",
       "      <td>0.851163</td>\n",
       "      <td>0.831325</td>\n",
       "      <td>0.793103</td>\n",
       "      <td>0.811765</td>\n",
       "      <td>0.841864</td>\n",
       "      <td>00:00</td>\n",
       "    </tr>\n",
       "    <tr>\n",
       "      <td>3</td>\n",
       "      <td>0.462774</td>\n",
       "      <td>0.389435</td>\n",
       "      <td>0.832558</td>\n",
       "      <td>0.904762</td>\n",
       "      <td>0.655172</td>\n",
       "      <td>0.760000</td>\n",
       "      <td>0.804149</td>\n",
       "      <td>00:00</td>\n",
       "    </tr>\n",
       "    <tr>\n",
       "      <td>4</td>\n",
       "      <td>0.398615</td>\n",
       "      <td>0.373801</td>\n",
       "      <td>0.841860</td>\n",
       "      <td>0.863014</td>\n",
       "      <td>0.724138</td>\n",
       "      <td>0.787500</td>\n",
       "      <td>0.823006</td>\n",
       "      <td>00:00</td>\n",
       "    </tr>\n",
       "    <tr>\n",
       "      <td>5</td>\n",
       "      <td>0.350632</td>\n",
       "      <td>0.467094</td>\n",
       "      <td>0.776744</td>\n",
       "      <td>0.669565</td>\n",
       "      <td>0.885057</td>\n",
       "      <td>0.762376</td>\n",
       "      <td>0.794091</td>\n",
       "      <td>00:00</td>\n",
       "    </tr>\n",
       "  </tbody>\n",
       "</table>"
      ],
      "text/plain": [
       "<IPython.core.display.HTML object>"
      ]
     },
     "metadata": {},
     "output_type": "display_data"
    },
    {
     "name": "stdout",
     "output_type": "stream",
     "text": [
      "No improvement since epoch 2: early stopping\n"
     ]
    }
   ],
   "source": [
    "if apply_sliding_window:\n",
    "    if trial.params[\"overlap_pct\"] > 0.5:  # to avoid an error in ArrayGenerator\n",
    "        X_train, y_train = ArrayGenerator.apply_sliding_window(\n",
    "            X_train1,\n",
    "            y_train1,\n",
    "            window_size=trial.params[\"window_size1\"],\n",
    "            with_fft=trial.params[\"with_fft\"],\n",
    "            overlap_pct=trial.params[\"overlap_pct\"],\n",
    "        )\n",
    "        X_test, y_test = ArrayGenerator.apply_sliding_window(\n",
    "            X_test1,\n",
    "            y_test1,\n",
    "            window_size=trial.params[\"window_size1\"],\n",
    "            with_fft=trial.params[\"with_fft\"],\n",
    "            overlap_pct=0,\n",
    "        )\n",
    "\n",
    "    elif trial.params[\"overlap_pct\"] > 0.25:\n",
    "        X_train, y_train = ArrayGenerator.apply_sliding_window(\n",
    "            X_train1,\n",
    "            y_train1,\n",
    "            window_size=trial.params[\"window_size2\"],\n",
    "            with_fft=trial.params[\"with_fft\"],\n",
    "            overlap_pct=trial.params[\"overlap_pct\"],\n",
    "        )\n",
    "        X_test, y_test = ArrayGenerator.apply_sliding_window(\n",
    "            X_test1,\n",
    "            y_test1,\n",
    "            window_size=trial.params[\"window_size2\"],\n",
    "            with_fft=trial.params[\"with_fft\"],\n",
    "            overlap_pct=0,\n",
    "        )\n",
    "    else:\n",
    "        X_train, y_train = ArrayGenerator.apply_sliding_window(\n",
    "            X_train1,\n",
    "            y_train1,\n",
    "            window_size=trial.params[\"window_size3\"],\n",
    "            with_fft=trial.params[\"with_fft\"],\n",
    "            overlap_pct=trial.params[\"overlap_pct\"],\n",
    "        )\n",
    "        X_test, y_test = ArrayGenerator.apply_sliding_window(\n",
    "            X_test1,\n",
    "            y_test1,\n",
    "            window_size=trial.params[\"window_size3\"],\n",
    "            with_fft=trial.params[\"with_fft\"],\n",
    "            overlap_pct=0,\n",
    "        )\n",
    "    train_balance_splits = get_splits(\n",
    "        y_train,\n",
    "        valid_size=0,\n",
    "        balance=True,\n",
    "        strategy=\"oversample\",\n",
    "        shuffle=True,\n",
    "        show_plot=False,\n",
    "    )\n",
    "    X_train, y_train = (\n",
    "        X_train[train_balance_splits[0]],\n",
    "        y_train[train_balance_splits[0]],\n",
    "    )\n",
    "    X, y, splits = combine_split_data([X_train, X_test], [y_train, y_test])\n",
    "    dls = get_ts_dls(\n",
    "        X,\n",
    "        y,\n",
    "        splits=splits,\n",
    "        tfms=tfms,\n",
    "        shuffle_train=True,\n",
    "        batch_tfms=batch_tfms,\n",
    "        bs=[trial.params[\"bs\"], 256],\n",
    "    )\n",
    "    seq_len = X_train.shape[-1]\n",
    "else:\n",
    "    dls = get_ts_dls(\n",
    "        x_nonan_padded,\n",
    "        raw_y,\n",
    "        splits=report_splits,\n",
    "        tfms=tfms,\n",
    "        shuffle_train=True,\n",
    "        batch_tfms=batch_tfms,\n",
    "        bs=[trial.params[\"bs\"], 256],\n",
    "    )\n",
    "    seq_len = 16384\n",
    "model = MLP(dls.vars, dls.c, seq_len=seq_len, layers=layers, ps=dropouts, use_bn=True)\n",
    "learn = Learner(\n",
    "    dls,\n",
    "    model,\n",
    "    lr=trial.params[\"lr\"],\n",
    "    metrics=[accuracy, Precision(), Recall(), F1Score(), BalancedAccuracy()],\n",
    ")\n",
    "\n",
    "learn.fit_one_cycle(15, cbs=callbacks);"
   ]
  },
  {
   "cell_type": "code",
   "execution_count": 51,
   "metadata": {
    "execution": {
     "iopub.execute_input": "2024-04-18T03:30:49.774321Z",
     "iopub.status.busy": "2024-04-18T03:30:49.773947Z",
     "iopub.status.idle": "2024-04-18T03:30:50.420692Z",
     "shell.execute_reply": "2024-04-18T03:30:50.419769Z",
     "shell.execute_reply.started": "2024-04-18T03:30:49.774279Z"
    },
    "trusted": true
   },
   "outputs": [
    {
     "data": {
      "text/html": [
       "\n",
       "<style>\n",
       "    /* Turns off some styling */\n",
       "    progress {\n",
       "        /* gets rid of default border in Firefox and Opera. */\n",
       "        border: none;\n",
       "        /* Needs to be in here for Safari polyfill so background images work as expected. */\n",
       "        background-size: auto;\n",
       "    }\n",
       "    progress:not([value]), progress:not([value])::-webkit-progress-bar {\n",
       "        background: repeating-linear-gradient(45deg, #7e7e7e, #7e7e7e 10px, #5c5c5c 10px, #5c5c5c 20px);\n",
       "    }\n",
       "    .progress-bar-interrupted, .progress-bar-interrupted::-webkit-progress-bar {\n",
       "        background: #F44336;\n",
       "    }\n",
       "</style>\n"
      ],
      "text/plain": [
       "<IPython.core.display.HTML object>"
      ]
     },
     "metadata": {},
     "output_type": "display_data"
    },
    {
     "data": {
      "text/html": [],
      "text/plain": [
       "<IPython.core.display.HTML object>"
      ]
     },
     "metadata": {},
     "output_type": "display_data"
    },
    {
     "data": {
      "image/png": "[encoded data removed]",
      "text/plain": [
       "<Figure size 600x600 with 1 Axes>"
      ]
     },
     "metadata": {},
     "output_type": "display_data"
    },
    {
     "data": {
      "text/html": [
       "\n",
       "<style>\n",
       "    /* Turns off some styling */\n",
       "    progress {\n",
       "        /* gets rid of default border in Firefox and Opera. */\n",
       "        border: none;\n",
       "        /* Needs to be in here for Safari polyfill so background images work as expected. */\n",
       "        background-size: auto;\n",
       "    }\n",
       "    progress:not([value]), progress:not([value])::-webkit-progress-bar {\n",
       "        background: repeating-linear-gradient(45deg, #7e7e7e, #7e7e7e 10px, #5c5c5c 10px, #5c5c5c 20px);\n",
       "    }\n",
       "    .progress-bar-interrupted, .progress-bar-interrupted::-webkit-progress-bar {\n",
       "        background: #F44336;\n",
       "    }\n",
       "</style>\n"
      ],
      "text/plain": [
       "<IPython.core.display.HTML object>"
      ]
     },
     "metadata": {},
     "output_type": "display_data"
    },
    {
     "data": {
      "text/html": [],
      "text/plain": [
       "<IPython.core.display.HTML object>"
      ]
     },
     "metadata": {},
     "output_type": "display_data"
    },
    {
     "data": {
      "text/html": [
       "\n",
       "<style>\n",
       "    /* Turns off some styling */\n",
       "    progress {\n",
       "        /* gets rid of default border in Firefox and Opera. */\n",
       "        border: none;\n",
       "        /* Needs to be in here for Safari polyfill so background images work as expected. */\n",
       "        background-size: auto;\n",
       "    }\n",
       "    progress:not([value]), progress:not([value])::-webkit-progress-bar {\n",
       "        background: repeating-linear-gradient(45deg, #7e7e7e, #7e7e7e 10px, #5c5c5c 10px, #5c5c5c 20px);\n",
       "    }\n",
       "    .progress-bar-interrupted, .progress-bar-interrupted::-webkit-progress-bar {\n",
       "        background: #F44336;\n",
       "    }\n",
       "</style>\n"
      ],
      "text/plain": [
       "<IPython.core.display.HTML object>"
      ]
     },
     "metadata": {},
     "output_type": "display_data"
    },
    {
     "data": {
      "text/html": [],
      "text/plain": [
       "<IPython.core.display.HTML object>"
      ]
     },
     "metadata": {},
     "output_type": "display_data"
    },
    {
     "data": {
      "text/html": [
       "\n",
       "<style>\n",
       "    /* Turns off some styling */\n",
       "    progress {\n",
       "        /* gets rid of default border in Firefox and Opera. */\n",
       "        border: none;\n",
       "        /* Needs to be in here for Safari polyfill so background images work as expected. */\n",
       "        background-size: auto;\n",
       "    }\n",
       "    progress:not([value]), progress:not([value])::-webkit-progress-bar {\n",
       "        background: repeating-linear-gradient(45deg, #7e7e7e, #7e7e7e 10px, #5c5c5c 10px, #5c5c5c 20px);\n",
       "    }\n",
       "    .progress-bar-interrupted, .progress-bar-interrupted::-webkit-progress-bar {\n",
       "        background: #F44336;\n",
       "    }\n",
       "</style>\n"
      ],
      "text/plain": [
       "<IPython.core.display.HTML object>"
      ]
     },
     "metadata": {},
     "output_type": "display_data"
    },
    {
     "data": {
      "text/html": [],
      "text/plain": [
       "<IPython.core.display.HTML object>"
      ]
     },
     "metadata": {},
     "output_type": "display_data"
    },
    {
     "data": {
      "image/png": "[encoded data removed]",
      "text/plain": [
       "<Figure size 640x480 with 1 Axes>"
      ]
     },
     "metadata": {},
     "output_type": "display_data"
    },
    {
     "data": {
      "image/png": "[encoded data removed]",
      "text/plain": [
       "<Figure size 800x600 with 1 Axes>"
      ]
     },
     "metadata": {},
     "output_type": "display_data"
    }
   ],
   "source": [
    "learn.show_probas()\n",
    "interp = ClassificationInterpretation.from_learner(learn)\n",
    "interp.plot_confusion_matrix()\n",
    "valid_dl = dls.valid\n",
    "valid_probas, valid_targets, valid_preds = learn.get_preds(\n",
    "    dl=valid_dl, with_decoded=True\n",
    ")\n",
    "from sklearn.metrics import roc_curve, auc\n",
    "import matplotlib.pyplot as plt\n",
    "\n",
    "positive_probs = valid_probas[:, 1]\n",
    "# Draw ROC curve to help us adjust the threshold to a better value.\n",
    "fpr, tpr, thresholds = roc_curve(valid_targets, positive_probs)\n",
    "roc_auc = auc(fpr, tpr)\n",
    "\n",
    "plt.figure(figsize=(8, 6))\n",
    "plt.plot(fpr, tpr, color=\"blue\", lw=2, label=f\"ROC curve (AUC = {roc_auc:.2f})\")\n",
    "plt.plot([0, 1], [0, 1], color=\"gray\", linestyle=\"--\")\n",
    "plt.xlim([0.0, 1.0])\n",
    "plt.ylim([0.0, 1.05])\n",
    "plt.xlabel(\"False Positive Rate\")\n",
    "plt.ylabel(\"True Positive Rate\")\n",
    "plt.title(\"Receiver Operating Characteristic (ROC) Curve\")\n",
    "plt.legend(loc=\"lower right\")\n",
    "plt.show()"
   ]
  }
 ],
 "metadata": {
  "kaggle": {
   "accelerator": "nvidiaTeslaT4",
   "dataSources": [
    {
     "datasetId": 4799717,
     "sourceId": 8123067,
     "sourceType": "datasetVersion"
    },
    {
     "sourceId": 166574313,
     "sourceType": "kernelVersion"
    }
   ],
   "dockerImageVersionId": 30683,
   "isGpuEnabled": true,
   "isInternetEnabled": true,
   "language": "python",
   "sourceType": "notebook"
  },
  "kernelspec": {
   "display_name": "Python 3",
   "language": "python",
   "name": "python3"
  },
  "language_info": {
   "codemirror_mode": {
    "name": "ipython",
    "version": 3
   },
   "file_extension": ".py",
   "mimetype": "text/x-python",
   "name": "python",
   "nbconvert_exporter": "python",
   "pygments_lexer": "ipython3",
   "version": "3.10.12"
  }
 },
 "nbformat": 4,
 "nbformat_minor": 4
}
